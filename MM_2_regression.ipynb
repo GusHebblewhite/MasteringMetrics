{
 "cells": [
  {
   "cell_type": "markdown",
   "metadata": {},
   "source": [
    "# Mastering Metrics Ch 2\n",
    "\n",
    "## Regressions and Controls"
   ]
  },
  {
   "cell_type": "code",
   "execution_count": 1,
   "metadata": {
    "collapsed": false
   },
   "outputs": [
    {
     "data": {
      "text/html": [
       "<div>\n",
       "<table border=\"1\" class=\"dataframe\">\n",
       "  <thead>\n",
       "    <tr style=\"text-align: right;\">\n",
       "      <th></th>\n",
       "      <th>symboling</th>\n",
       "      <th>normalized-losses</th>\n",
       "      <th>make</th>\n",
       "      <th>fuel-type</th>\n",
       "      <th>aspiration</th>\n",
       "      <th>num-of-doors</th>\n",
       "      <th>body-style</th>\n",
       "      <th>drive-wheels</th>\n",
       "      <th>engine-location</th>\n",
       "      <th>wheel-base</th>\n",
       "      <th>length</th>\n",
       "      <th>width</th>\n",
       "      <th>height</th>\n",
       "      <th>curb-weight</th>\n",
       "      <th>engine-type</th>\n",
       "      <th>num-of-cylinders</th>\n",
       "      <th>engine-size</th>\n",
       "      <th>fuel-system</th>\n",
       "      <th>bore</th>\n",
       "      <th>stroke</th>\n",
       "      <th>compression-ratio</th>\n",
       "      <th>horsepower</th>\n",
       "      <th>peak-rpm</th>\n",
       "      <th>city-mpg</th>\n",
       "      <th>highway-mpg</th>\n",
       "      <th>price</th>\n",
       "    </tr>\n",
       "  </thead>\n",
       "  <tbody>\n",
       "    <tr>\n",
       "      <th>8</th>\n",
       "      <td>1</td>\n",
       "      <td>158</td>\n",
       "      <td>audi</td>\n",
       "      <td>gas</td>\n",
       "      <td>turbo</td>\n",
       "      <td>four</td>\n",
       "      <td>sedan</td>\n",
       "      <td>fwd</td>\n",
       "      <td>front</td>\n",
       "      <td>105.8</td>\n",
       "      <td>192.7</td>\n",
       "      <td>71.4</td>\n",
       "      <td>55.9</td>\n",
       "      <td>3086</td>\n",
       "      <td>ohc</td>\n",
       "      <td>five</td>\n",
       "      <td>131</td>\n",
       "      <td>mpfi</td>\n",
       "      <td>3.13</td>\n",
       "      <td>3.40</td>\n",
       "      <td>8.3</td>\n",
       "      <td>140</td>\n",
       "      <td>5500</td>\n",
       "      <td>17</td>\n",
       "      <td>20</td>\n",
       "      <td>23875</td>\n",
       "    </tr>\n",
       "    <tr>\n",
       "      <th>90</th>\n",
       "      <td>1</td>\n",
       "      <td>128</td>\n",
       "      <td>nissan</td>\n",
       "      <td>diesel</td>\n",
       "      <td>std</td>\n",
       "      <td>two</td>\n",
       "      <td>sedan</td>\n",
       "      <td>fwd</td>\n",
       "      <td>front</td>\n",
       "      <td>94.5</td>\n",
       "      <td>165.3</td>\n",
       "      <td>63.8</td>\n",
       "      <td>54.5</td>\n",
       "      <td>2017</td>\n",
       "      <td>ohc</td>\n",
       "      <td>four</td>\n",
       "      <td>103</td>\n",
       "      <td>idi</td>\n",
       "      <td>2.99</td>\n",
       "      <td>3.47</td>\n",
       "      <td>21.9</td>\n",
       "      <td>55</td>\n",
       "      <td>4800</td>\n",
       "      <td>45</td>\n",
       "      <td>50</td>\n",
       "      <td>7099</td>\n",
       "    </tr>\n",
       "    <tr>\n",
       "      <th>144</th>\n",
       "      <td>0</td>\n",
       "      <td>102</td>\n",
       "      <td>subaru</td>\n",
       "      <td>gas</td>\n",
       "      <td>std</td>\n",
       "      <td>four</td>\n",
       "      <td>sedan</td>\n",
       "      <td>4wd</td>\n",
       "      <td>front</td>\n",
       "      <td>97.0</td>\n",
       "      <td>172.0</td>\n",
       "      <td>65.4</td>\n",
       "      <td>54.3</td>\n",
       "      <td>2385</td>\n",
       "      <td>ohcf</td>\n",
       "      <td>four</td>\n",
       "      <td>108</td>\n",
       "      <td>2bbl</td>\n",
       "      <td>3.62</td>\n",
       "      <td>2.64</td>\n",
       "      <td>9.0</td>\n",
       "      <td>82</td>\n",
       "      <td>4800</td>\n",
       "      <td>24</td>\n",
       "      <td>25</td>\n",
       "      <td>9233</td>\n",
       "    </tr>\n",
       "    <tr>\n",
       "      <th>188</th>\n",
       "      <td>2</td>\n",
       "      <td>94</td>\n",
       "      <td>volkswagen</td>\n",
       "      <td>gas</td>\n",
       "      <td>std</td>\n",
       "      <td>four</td>\n",
       "      <td>sedan</td>\n",
       "      <td>fwd</td>\n",
       "      <td>front</td>\n",
       "      <td>97.3</td>\n",
       "      <td>171.7</td>\n",
       "      <td>65.5</td>\n",
       "      <td>55.7</td>\n",
       "      <td>2300</td>\n",
       "      <td>ohc</td>\n",
       "      <td>four</td>\n",
       "      <td>109</td>\n",
       "      <td>mpfi</td>\n",
       "      <td>3.19</td>\n",
       "      <td>3.40</td>\n",
       "      <td>10.0</td>\n",
       "      <td>100</td>\n",
       "      <td>5500</td>\n",
       "      <td>26</td>\n",
       "      <td>32</td>\n",
       "      <td>9995</td>\n",
       "    </tr>\n",
       "    <tr>\n",
       "      <th>166</th>\n",
       "      <td>1</td>\n",
       "      <td>168</td>\n",
       "      <td>toyota</td>\n",
       "      <td>gas</td>\n",
       "      <td>std</td>\n",
       "      <td>two</td>\n",
       "      <td>hatchback</td>\n",
       "      <td>rwd</td>\n",
       "      <td>front</td>\n",
       "      <td>94.5</td>\n",
       "      <td>168.7</td>\n",
       "      <td>64.0</td>\n",
       "      <td>52.6</td>\n",
       "      <td>2300</td>\n",
       "      <td>dohc</td>\n",
       "      <td>four</td>\n",
       "      <td>98</td>\n",
       "      <td>mpfi</td>\n",
       "      <td>3.24</td>\n",
       "      <td>3.08</td>\n",
       "      <td>9.4</td>\n",
       "      <td>112</td>\n",
       "      <td>6600</td>\n",
       "      <td>26</td>\n",
       "      <td>29</td>\n",
       "      <td>9538</td>\n",
       "    </tr>\n",
       "  </tbody>\n",
       "</table>\n",
       "</div>"
      ],
      "text/plain": [
       "     symboling normalized-losses        make fuel-type aspiration  \\\n",
       "8            1               158        audi       gas      turbo   \n",
       "90           1               128      nissan    diesel        std   \n",
       "144          0               102      subaru       gas        std   \n",
       "188          2                94  volkswagen       gas        std   \n",
       "166          1               168      toyota       gas        std   \n",
       "\n",
       "    num-of-doors body-style drive-wheels engine-location  wheel-base  length  \\\n",
       "8           four      sedan          fwd           front       105.8   192.7   \n",
       "90           two      sedan          fwd           front        94.5   165.3   \n",
       "144         four      sedan          4wd           front        97.0   172.0   \n",
       "188         four      sedan          fwd           front        97.3   171.7   \n",
       "166          two  hatchback          rwd           front        94.5   168.7   \n",
       "\n",
       "     width  height  curb-weight engine-type num-of-cylinders  engine-size  \\\n",
       "8     71.4    55.9         3086         ohc             five          131   \n",
       "90    63.8    54.5         2017         ohc             four          103   \n",
       "144   65.4    54.3         2385        ohcf             four          108   \n",
       "188   65.5    55.7         2300         ohc             four          109   \n",
       "166   64.0    52.6         2300        dohc             four           98   \n",
       "\n",
       "    fuel-system  bore stroke  compression-ratio horsepower peak-rpm  city-mpg  \\\n",
       "8          mpfi  3.13   3.40                8.3        140     5500        17   \n",
       "90          idi  2.99   3.47               21.9         55     4800        45   \n",
       "144        2bbl  3.62   2.64                9.0         82     4800        24   \n",
       "188        mpfi  3.19   3.40               10.0        100     5500        26   \n",
       "166        mpfi  3.24   3.08                9.4        112     6600        26   \n",
       "\n",
       "     highway-mpg  price  \n",
       "8             20  23875  \n",
       "90            50   7099  \n",
       "144           25   9233  \n",
       "188           32   9995  \n",
       "166           29   9538  "
      ]
     },
     "metadata": {},
     "output_type": "display_data"
    }
   ],
   "source": [
    "%matplotlib inline\n",
    "\n",
    "import pandas as pd\n",
    "import numpy as np\n",
    "from IPython.display import display\n",
    "\n",
    "pd.options.display.max_columns = 100\n",
    "\n",
    "cars_data = pd.read_csv('cars_csv.csv')\n",
    "\n",
    "display(cars_data.sample(5))"
   ]
  },
  {
   "cell_type": "markdown",
   "metadata": {},
   "source": [
    "## Regression of Horsepower on Engine Size (cotrolling for Length)"
   ]
  },
  {
   "cell_type": "markdown",
   "metadata": {},
   "source": [
    "$Y_i$ = horsepower    \n",
    "$D_i$ = engine size  \n",
    "$A_i$ = length"
   ]
  },
  {
   "cell_type": "code",
   "execution_count": 2,
   "metadata": {
    "collapsed": false
   },
   "outputs": [
    {
     "data": {
      "text/html": [
       "<div>\n",
       "<table border=\"1\" class=\"dataframe\">\n",
       "  <thead>\n",
       "    <tr style=\"text-align: right;\">\n",
       "      <th></th>\n",
       "      <th>horsepower</th>\n",
       "      <th>engine-size</th>\n",
       "      <th>length</th>\n",
       "    </tr>\n",
       "  </thead>\n",
       "  <tbody>\n",
       "    <tr>\n",
       "      <th>87</th>\n",
       "      <td>116.0</td>\n",
       "      <td>110.0</td>\n",
       "      <td>172.4</td>\n",
       "    </tr>\n",
       "    <tr>\n",
       "      <th>2</th>\n",
       "      <td>154.0</td>\n",
       "      <td>152.0</td>\n",
       "      <td>171.2</td>\n",
       "    </tr>\n",
       "    <tr>\n",
       "      <th>30</th>\n",
       "      <td>58.0</td>\n",
       "      <td>92.0</td>\n",
       "      <td>144.6</td>\n",
       "    </tr>\n",
       "    <tr>\n",
       "      <th>75</th>\n",
       "      <td>175.0</td>\n",
       "      <td>140.0</td>\n",
       "      <td>178.4</td>\n",
       "    </tr>\n",
       "    <tr>\n",
       "      <th>71</th>\n",
       "      <td>155.0</td>\n",
       "      <td>234.0</td>\n",
       "      <td>202.6</td>\n",
       "    </tr>\n",
       "  </tbody>\n",
       "</table>\n",
       "</div>"
      ],
      "text/plain": [
       "    horsepower  engine-size  length\n",
       "87       116.0        110.0   172.4\n",
       "2        154.0        152.0   171.2\n",
       "30        58.0         92.0   144.6\n",
       "75       175.0        140.0   178.4\n",
       "71       155.0        234.0   202.6"
      ]
     },
     "execution_count": 2,
     "metadata": {},
     "output_type": "execute_result"
    }
   ],
   "source": [
    "Y_i = 'horsepower'\n",
    "D_i = 'engine-size'\n",
    "A_i = 'length'\n",
    "\n",
    "\n",
    "reg_data = cars_data[[Y_i, D_i, A_i]].copy()\n",
    "reg_data.replace('?', np.nan, inplace = True)\n",
    "reg_data = reg_data.dropna().astype(float)\n",
    "reg_data.sample(5)"
   ]
  },
  {
   "cell_type": "code",
   "execution_count": 3,
   "metadata": {
    "collapsed": false
   },
   "outputs": [
    {
     "data": {
      "text/html": [
       "<div>\n",
       "<table border=\"1\" class=\"dataframe\">\n",
       "  <thead>\n",
       "    <tr style=\"text-align: right;\">\n",
       "      <th></th>\n",
       "      <th>horsepower</th>\n",
       "      <th>engine-size</th>\n",
       "      <th>length</th>\n",
       "    </tr>\n",
       "  </thead>\n",
       "  <tbody>\n",
       "    <tr>\n",
       "      <th>horsepower</th>\n",
       "      <td>1.000000</td>\n",
       "      <td>0.810773</td>\n",
       "      <td>0.555003</td>\n",
       "    </tr>\n",
       "    <tr>\n",
       "      <th>engine-size</th>\n",
       "      <td>0.810773</td>\n",
       "      <td>1.000000</td>\n",
       "      <td>0.683610</td>\n",
       "    </tr>\n",
       "    <tr>\n",
       "      <th>length</th>\n",
       "      <td>0.555003</td>\n",
       "      <td>0.683610</td>\n",
       "      <td>1.000000</td>\n",
       "    </tr>\n",
       "  </tbody>\n",
       "</table>\n",
       "</div>"
      ],
      "text/plain": [
       "             horsepower  engine-size    length\n",
       "horsepower     1.000000     0.810773  0.555003\n",
       "engine-size    0.810773     1.000000  0.683610\n",
       "length         0.555003     0.683610  1.000000"
      ]
     },
     "execution_count": 3,
     "metadata": {},
     "output_type": "execute_result"
    }
   ],
   "source": [
    "#Correlations:\n",
    "reg_data.corr()"
   ]
  },
  {
   "cell_type": "markdown",
   "metadata": {},
   "source": [
    "## Run the Auxillary Regression\n",
    "Regress $D_i$ on $A_i$"
   ]
  },
  {
   "cell_type": "code",
   "execution_count": 10,
   "metadata": {
    "collapsed": false
   },
   "outputs": [
    {
     "name": "stdout",
     "output_type": "stream",
     "text": [
      "[ 2.30962075]\n"
     ]
    },
    {
     "data": {
      "text/html": [
       "<div>\n",
       "<table border=\"1\" class=\"dataframe\">\n",
       "  <thead>\n",
       "    <tr style=\"text-align: right;\">\n",
       "      <th></th>\n",
       "      <th>horsepower</th>\n",
       "      <th>engine-size</th>\n",
       "      <th>length</th>\n",
       "      <th>residuals</th>\n",
       "    </tr>\n",
       "  </thead>\n",
       "  <tbody>\n",
       "    <tr>\n",
       "      <th>150</th>\n",
       "      <td>62.0</td>\n",
       "      <td>92.0</td>\n",
       "      <td>158.7</td>\n",
       "      <td>0.477779</td>\n",
       "    </tr>\n",
       "    <tr>\n",
       "      <th>19</th>\n",
       "      <td>70.0</td>\n",
       "      <td>90.0</td>\n",
       "      <td>155.9</td>\n",
       "      <td>4.944717</td>\n",
       "    </tr>\n",
       "    <tr>\n",
       "      <th>60</th>\n",
       "      <td>84.0</td>\n",
       "      <td>122.0</td>\n",
       "      <td>177.8</td>\n",
       "      <td>-13.635977</td>\n",
       "    </tr>\n",
       "    <tr>\n",
       "      <th>106</th>\n",
       "      <td>160.0</td>\n",
       "      <td>181.0</td>\n",
       "      <td>178.5</td>\n",
       "      <td>43.747288</td>\n",
       "    </tr>\n",
       "    <tr>\n",
       "      <th>109</th>\n",
       "      <td>97.0</td>\n",
       "      <td>120.0</td>\n",
       "      <td>198.9</td>\n",
       "      <td>-64.368975</td>\n",
       "    </tr>\n",
       "  </tbody>\n",
       "</table>\n",
       "</div>"
      ],
      "text/plain": [
       "     horsepower  engine-size  length  residuals\n",
       "150        62.0         92.0   158.7   0.477779\n",
       "19         70.0         90.0   155.9   4.944717\n",
       "60         84.0        122.0   177.8 -13.635977\n",
       "106       160.0        181.0   178.5  43.747288\n",
       "109        97.0        120.0   198.9 -64.368975"
      ]
     },
     "execution_count": 10,
     "metadata": {},
     "output_type": "execute_result"
    }
   ],
   "source": [
    "from sklearn.linear_model import LinearRegression\n",
    "lr_aux = LinearRegression()\n",
    "lr_aux.fit(X = reg_data.ix[:, [A_i]], \n",
    "           y = reg_data.ix[:, D_i])\n",
    "\n",
    "reg_data['residuals'] = reg_data.ix[:, D_i].astype(float) -\\\n",
    "    lr_aux.predict(reg_data.ix[:, [A_i]])\n",
    "    \n",
    "print(lr_aux.coef_)\n",
    "    \n",
    "reg_data.sample(5)"
   ]
  },
  {
   "cell_type": "markdown",
   "metadata": {},
   "source": [
    "## Run the Real Regression\n",
    "Regress $Y_i$ on $A_i$ and the residuals of the Auxillary Regression"
   ]
  },
  {
   "cell_type": "code",
   "execution_count": 23,
   "metadata": {
    "collapsed": false
   },
   "outputs": [
    {
     "name": "stdout",
     "output_type": "stream",
     "text": [
      "naive treatment effect: [ 0.76857195  0.0045168 ]\n",
      "treatment effect: 0.76857195076\n"
     ]
    },
    {
     "data": {
      "text/plain": [
       "<matplotlib.collections.PathCollection at 0x2321e3cfa58>"
      ]
     },
     "execution_count": 23,
     "metadata": {},
     "output_type": "execute_result"
    },
    {
     "data": {
      "image/png": "[encoded data removed]",
      "text/plain": [
       "<matplotlib.figure.Figure at 0x2321e25ecc0>"
      ]
     },
     "metadata": {},
     "output_type": "display_data"
    }
   ],
   "source": [
    "import matplotlib.pyplot as plt\n",
    "\n",
    "#perform a naive regression:\n",
    "lr_naive = LinearRegression()\n",
    "lr_naive.fit(X = reg_data.ix[:, [D_i, A_i]], \n",
    "             y = reg_data.ix[:, Y_i])\n",
    "\n",
    "print(\"naive treatment effect:\", lr_naive.coef_)\n",
    "\n",
    "#perform a regression on only the residuals:\n",
    "lr_real = LinearRegression()\n",
    "lr_real.fit(X = reg_data.ix[:, ['residuals']], \n",
    "            y = reg_data.ix[:, Y_i])\n",
    "\n",
    "\n",
    "treatment_effect = lr_real.coef_\n",
    "print(\"treatment effect:\", treatment_effect[0])\n",
    "\n",
    "plt.scatter(list(reg_data[D_i]), list(reg_data[Y_i]))"
   ]
  },
  {
   "cell_type": "markdown",
   "metadata": {},
   "source": [
    "## Using the Omitted Variable Bias\n",
    "Let's try the same but using the Omitted Variable Bias formula, and see if we get the same result.\n",
    "\n",
    "We can integrate the controls into a monovariate linear regression (with coefficient $\\beta_s$). It works like so;\n",
    "\n",
    "Original 'long' regression:\n",
    "$$Y_i = \\alpha_l + \\beta_l D_i + \\gamma_l A_i + e_i$$\n",
    "We want to convert it into a short form:\n",
    "$$Y_i = \\alpha_s + \\beta_s D_i + e_i$$\n",
    "\n",
    "We do so by aknowledging that:\n",
    "$$\\beta_s = \\beta_l + \\delta_A \\gamma_l$$\n",
    "Where $\\delta_A$ is the slope from a regression of $A_i$ on $D_i$:\n",
    "$$A_i = \\pi_0 + \\delta_A D_i + \\epsilon_i$$"
   ]
  },
  {
   "cell_type": "code",
   "execution_count": 7,
   "metadata": {
    "collapsed": false
   },
   "outputs": [
    {
     "data": {
      "text/html": [
       "<div>\n",
       "<table border=\"1\" class=\"dataframe\">\n",
       "  <thead>\n",
       "    <tr style=\"text-align: right;\">\n",
       "      <th></th>\n",
       "      <th>horsepower</th>\n",
       "      <th>engine-size</th>\n",
       "      <th>length</th>\n",
       "    </tr>\n",
       "  </thead>\n",
       "  <tbody>\n",
       "    <tr>\n",
       "      <th>91</th>\n",
       "      <td>69.0</td>\n",
       "      <td>97.0</td>\n",
       "      <td>165.3</td>\n",
       "    </tr>\n",
       "    <tr>\n",
       "      <th>180</th>\n",
       "      <td>156.0</td>\n",
       "      <td>171.0</td>\n",
       "      <td>187.8</td>\n",
       "    </tr>\n",
       "    <tr>\n",
       "      <th>147</th>\n",
       "      <td>94.0</td>\n",
       "      <td>108.0</td>\n",
       "      <td>173.5</td>\n",
       "    </tr>\n",
       "    <tr>\n",
       "      <th>115</th>\n",
       "      <td>97.0</td>\n",
       "      <td>120.0</td>\n",
       "      <td>186.7</td>\n",
       "    </tr>\n",
       "    <tr>\n",
       "      <th>52</th>\n",
       "      <td>68.0</td>\n",
       "      <td>91.0</td>\n",
       "      <td>159.1</td>\n",
       "    </tr>\n",
       "  </tbody>\n",
       "</table>\n",
       "</div>"
      ],
      "text/plain": [
       "     horsepower  engine-size  length\n",
       "91         69.0         97.0   165.3\n",
       "180       156.0        171.0   187.8\n",
       "147        94.0        108.0   173.5\n",
       "115        97.0        120.0   186.7\n",
       "52         68.0         91.0   159.1"
      ]
     },
     "execution_count": 7,
     "metadata": {},
     "output_type": "execute_result"
    }
   ],
   "source": [
    "Y_i = 'horsepower'\n",
    "D_i = 'engine-size'\n",
    "A_i = 'length'\n",
    "\n",
    "\n",
    "reg_data = cars_data[[Y_i, D_i, A_i]].copy()\n",
    "reg_data.replace('?', np.nan, inplace = True)\n",
    "reg_data = reg_data.dropna().astype(float)\n",
    "reg_data.sample(5)"
   ]
  },
  {
   "cell_type": "code",
   "execution_count": 21,
   "metadata": {
    "collapsed": false
   },
   "outputs": [
    {
     "name": "stdout",
     "output_type": "stream",
     "text": [
      "[ 0.76857195  0.0045168 ]\n",
      "[ 0.20233753]\n",
      "beta_s (from OVB formula) =  0.769485869655\n",
      "beta_s (from regresssion) =  0.769485869655\n"
     ]
    }
   ],
   "source": [
    "from sklearn.linear_model import LinearRegression\n",
    "\n",
    "#Get result from LONG regression:\n",
    "lr = LinearRegression()\n",
    "lr.fit(X = reg_data[[D_i, A_i]],\n",
    "       y = reg_data[Y_i]\n",
    "      )\n",
    "print(lr.coef_)\n",
    "beta_l = lr.coef_[0]\n",
    "gamma_l = lr.coef_[1]\n",
    "\n",
    "#Use a second regression to find delta_A\n",
    "lr2 = LinearRegression()\n",
    "lr2.fit(X = reg_data[[D_i]],\n",
    "       y = reg_data[A_i]\n",
    "      )\n",
    "print(lr2.coef_)\n",
    "delta_A = lr2.coef_[0]\n",
    "\n",
    "#Multiply them together to get the OVB:\n",
    "OVB = delta_A * gamma_l\n",
    "\n",
    "beta_s = OVB + beta_l\n",
    "print(\"beta_s (from OVB formula) = \", beta_s)\n",
    "\n",
    "#Let's get beta_s the direct way too:\n",
    "lr3 = LinearRegression()\n",
    "lr3.fit(X = reg_data[[D_i]],\n",
    "       y = reg_data[Y_i]\n",
    "      )\n",
    "print(\"beta_s (from regresssion) = \", lr3.coef_[0])"
   ]
  },
  {
   "cell_type": "code",
   "execution_count": null,
   "metadata": {
    "collapsed": true
   },
   "outputs": [],
   "source": []
  }
 ],
 "metadata": {
  "anaconda-cloud": {},
  "kernelspec": {
   "display_name": "Python [conda root]",
   "language": "python",
   "name": "conda-root-py"
  },
  "language_info": {
   "codemirror_mode": {
    "name": "ipython",
    "version": 3
   },
   "file_extension": ".py",
   "mimetype": "text/x-python",
   "name": "python",
   "nbconvert_exporter": "python",
   "pygments_lexer": "ipython3",
   "version": "3.5.2"
  }
 },
 "nbformat": 4,
 "nbformat_minor": 1
}
