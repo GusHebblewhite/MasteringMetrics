{
 "cells": [
  {
   "cell_type": "markdown",
   "metadata": {},
   "source": [
    "# Advanced IV\n",
    "IV is pretty handy for linking variables. It can also be used for controlling for attenuation bias.\n",
    "\n",
    "**Attenu-what?**  \n",
    "Attenuation Bias is an underestimated of a treatment effect due to incorrect data. An example is that if we have some group of twins and we are trying to use them (since they are a natural experiment controlling for heaps of stuff; parents, even genes, etc) to work out the value of education. \n",
    "\n"
   ]
  },
  {
   "cell_type": "code",
   "execution_count": 1,
   "metadata": {
    "collapsed": false
   },
   "outputs": [],
   "source": [
    "#meta-params:\n",
    "num_twins = 100\n",
    "\n",
    "import pandas as pd\n",
    "import numpy as np\n",
    "\n",
    "twins_db = pd.DataFrame()\n",
    "\n",
    "#Generate data for number of years educating\n",
    "twins_db['Education_1'] = [round(np.random.normal(loc= 14, scale=2)) for x in range(num_twins)]\n",
    "twins_db['Education_2'] = [round(np.random.normal(loc= 14, scale=2)) for x in range(num_twins)]\n",
    "\n",
    "#Function for generating salary from education\n",
    "def sal_f_edu(edu):\n",
    "    import numpy as np\n",
    "    slope = 3\n",
    "    rand = np.random.normal(0, 15)\n",
    "    return round(slope * edu + rand)\n",
    "\n",
    "#Generate data for salary\n",
    "twins_db['Salary_1'] = twins_db['Education_1'].apply(sal_f_edu)\n",
    "twins_db['Salary_2'] = twins_db['Education_2'].apply(sal_f_edu)\n",
    "\n",
    "#Add an constant and convert whole df to float:\n",
    "twins_db['const'] = 1\n",
    "twins_db = twins_db.astype(float)"
   ]
  },
  {
   "cell_type": "code",
   "execution_count": 2,
   "metadata": {
    "collapsed": false
   },
   "outputs": [
    {
     "data": {
      "text/html": [
       "<div>\n",
       "<table border=\"1\" class=\"dataframe\">\n",
       "  <thead>\n",
       "    <tr style=\"text-align: right;\">\n",
       "      <th></th>\n",
       "      <th>Education_1</th>\n",
       "      <th>Education_2</th>\n",
       "      <th>Salary_1</th>\n",
       "      <th>Salary_2</th>\n",
       "      <th>const</th>\n",
       "    </tr>\n",
       "  </thead>\n",
       "  <tbody>\n",
       "    <tr>\n",
       "      <th>37</th>\n",
       "      <td>11.0</td>\n",
       "      <td>13.0</td>\n",
       "      <td>41.0</td>\n",
       "      <td>21.0</td>\n",
       "      <td>1.0</td>\n",
       "    </tr>\n",
       "    <tr>\n",
       "      <th>88</th>\n",
       "      <td>11.0</td>\n",
       "      <td>13.0</td>\n",
       "      <td>33.0</td>\n",
       "      <td>-9.0</td>\n",
       "      <td>1.0</td>\n",
       "    </tr>\n",
       "    <tr>\n",
       "      <th>0</th>\n",
       "      <td>14.0</td>\n",
       "      <td>16.0</td>\n",
       "      <td>37.0</td>\n",
       "      <td>29.0</td>\n",
       "      <td>1.0</td>\n",
       "    </tr>\n",
       "    <tr>\n",
       "      <th>10</th>\n",
       "      <td>15.0</td>\n",
       "      <td>18.0</td>\n",
       "      <td>40.0</td>\n",
       "      <td>68.0</td>\n",
       "      <td>1.0</td>\n",
       "    </tr>\n",
       "    <tr>\n",
       "      <th>30</th>\n",
       "      <td>15.0</td>\n",
       "      <td>15.0</td>\n",
       "      <td>40.0</td>\n",
       "      <td>71.0</td>\n",
       "      <td>1.0</td>\n",
       "    </tr>\n",
       "  </tbody>\n",
       "</table>\n",
       "</div>"
      ],
      "text/plain": [
       "    Education_1  Education_2  Salary_1  Salary_2  const\n",
       "37         11.0         13.0      41.0      21.0    1.0\n",
       "88         11.0         13.0      33.0      -9.0    1.0\n",
       "0          14.0         16.0      37.0      29.0    1.0\n",
       "10         15.0         18.0      40.0      68.0    1.0\n",
       "30         15.0         15.0      40.0      71.0    1.0"
      ]
     },
     "execution_count": 2,
     "metadata": {},
     "output_type": "execute_result"
    }
   ],
   "source": [
    "twins_db.sample(5)"
   ]
  },
  {
   "cell_type": "code",
   "execution_count": 7,
   "metadata": {
    "collapsed": false
   },
   "outputs": [],
   "source": [
    "#Set up the data:\n",
    "X1 = 'Education_1'\n",
    "X2 = 'Education_2'\n",
    "y1 = 'Salary_1'\n",
    "y2 = 'Salary_2'\n",
    "\n",
    "y = pd.concat([twins_db[y1], twins_db[y2]])\n",
    "X = pd.DataFrame(columns = [\"Education\"], data = pd.concat([twins_db[X1], twins_db[X2]]))\n",
    "X['const'] = 1"
   ]
  },
  {
   "cell_type": "code",
   "execution_count": 10,
   "metadata": {
    "collapsed": false
   },
   "outputs": [],
   "source": [
    "#Get the unattenuated result:\n",
    "#Imports\n",
    "import statsmodels.api as sm\n",
    "\n",
    "lr = sm.OLS(y, X)\n",
    "result = lr.fit()\n",
    "normal_coef = result.params[0]\n",
    "\n",
    "#Get the attenuated results:\n",
    "coef = []\n",
    "for _ in range(100):\n",
    "    \n",
    "    \n",
    "    \n",
    "    #Run a linear regression\n",
    "    lr = sm.OLS(y,\n",
    "                X)\n",
    "    result = lr.fit()\n",
    "    \n",
    "    coef.append(result.params[0])"
   ]
  },
  {
   "cell_type": "code",
   "execution_count": 14,
   "metadata": {
    "collapsed": false
   },
   "outputs": [
    {
     "name": "stdout",
     "output_type": "stream",
     "text": [
      "Target:\t\t 3.12760991826 \n",
      "Attenuated:\t 1.75869837235\n"
     ]
    }
   ],
   "source": [
    "print(\"Target:\\t\\t\", normal_coef, \"\\nAttenuated:\\t\", np.average(coef))"
   ]
  },
  {
   "cell_type": "markdown",
   "metadata": {},
   "source": [
    "The difference between these numbers is \"Attenuation Bias\".\n",
    "\n",
    "**How do we solve Attenation Bias?**  \n",
    "We can use \"twin one's report of twin 2's schooling\" as an instrument for \"twin 2's schooling\" (assuming we have/can collect(ed) this information). Assuming that any mistakes made in reporting are just random mistakes, they should mostly cancel out.\n",
    "\n",
    "### Remember IVs?\n",
    "Reduced Form (effect of the instrument on the outcome):\n",
    "$$Y_i = \\alpha_0 + \\rho Z_i + e_0i$$\n",
    "First Stage (effect of the instrument on the treatment):\n",
    "$$D_i = \\alpha_1 + \\phi Z_i + e_1i$$\n",
    "\n",
    "2SLS ():\n",
    "$$\\hat{D}_i = \\alpha_1 + \\phi Z_i$$\n",
    "Finally (effect of treatment on the outcome):\n",
    "$$Y_i = \\alpha_2 + \\lambda_{2SLS} \\hat{D}_i + \\gamma_2 A_i + e_2i$$\n",
    "\n",
    "**IVs in our example:**  \n",
    "$Y_i$ = Difference in Salary  \n",
    "$D_i$ = Education (self reported)  \n",
    "$Z_i$ = Difference in education (self reported - twin reported)"
   ]
  },
  {
   "cell_type": "code",
   "execution_count": 17,
   "metadata": {
    "collapsed": true
   },
   "outputs": [],
   "source": [
    "#Set up the data:\n",
    "X1 = 'Education_1'\n",
    "X2 = 'Education_2'\n",
    "y1 = 'Salary_1'\n",
    "y2 = 'Salary_2'\n",
    "\n",
    "y = pd.concat([twins_db[y1], twins_db[y2]])\n",
    "X = pd.DataFrame(columns = [\"Education\"], data = pd.concat([twins_db[X1], twins_db[X2]]))\n",
    "X['Education_twin'] = X['Education'].copy()\n",
    "X['const'] = 1"
   ]
  },
  {
   "cell_type": "code",
   "execution_count": 24,
   "metadata": {
    "collapsed": false
   },
   "outputs": [],
   "source": [
    "#Get the attenuated results:\n",
    "lambda_late = []\n",
    "lambda_2sls = []\n",
    "for _ in range(300):\n",
    "    \n",
    "    #Add some mistakes (self reporting):\n",
    "    X['Education'] = X['Education'].apply(lambda x : x + round(np.random.normal(0, 0.3)))\n",
    "    X['Education_twin'] = X['Education_twin'].apply(lambda x : x + round(np.random.normal(0, 0.3)))\n",
    "    \n",
    "    \n",
    "    #Get the difference:\n",
    "    X['Education_diff'] = X['Education'] - X['Education_twin']\n",
    "    X.drop(['Education_twin'], 1)\n",
    "    \n",
    "    D_i = 'Education'\n",
    "    Z_i = 'Education_diff'\n",
    "                                               \n",
    "    #Run a linear regression (first stage)\n",
    "    lr_fs = sm.OLS(X[D_i],\n",
    "                   X[[Z_i, 'const']])\n",
    "    result_fs = lr_fs.fit()\n",
    "    \n",
    "    #And another (reduced form)\n",
    "    lr_rf = sm.OLS(y,\n",
    "                   X[[Z_i, 'const']])\n",
    "    result_rf = lr_rf.fit()\n",
    "    \n",
    "    #save result;\n",
    "    X['fs_predict'] = result_fs.predict(X[[Z_i, 'const']])\n",
    "    \n",
    "    #And another (2sls)\n",
    "    lr_2sls = sm.OLS(y,\n",
    "                     X[['fs_predict', 'const']])\n",
    "    result_2sls = lr_2sls.fit()\n",
    "    \n",
    "    lambda_late.append(result_rf.params[0] / result_fs.params[0])\n",
    "    lambda_2sls.append(result_2sls.params[0])"
   ]
  },
  {
   "cell_type": "code",
   "execution_count": 25,
   "metadata": {
    "collapsed": false
   },
   "outputs": [
    {
     "name": "stdout",
     "output_type": "stream",
     "text": [
      "Target: 3.12760991826 \n",
      "Attenuated: 1.75869837235\n",
      "LATE: 0.452725708673\n",
      "2SLS: 0.452725708673\n"
     ]
    }
   ],
   "source": [
    "print(\"Target:\", normal_coef, \"\\nAttenuated:\", np.average(coef))\n",
    "print(\"LATE:\", np.mean(lambda_late))\n",
    "print(\"2SLS:\", np.mean(lambda_2sls))"
   ]
  },
  {
   "cell_type": "code",
   "execution_count": null,
   "metadata": {
    "collapsed": true
   },
   "outputs": [],
   "source": []
  }
 ],
 "metadata": {
  "anaconda-cloud": {},
  "kernelspec": {
   "display_name": "Python [conda root]",
   "language": "python",
   "name": "conda-root-py"
  },
  "language_info": {
   "codemirror_mode": {
    "name": "ipython",
    "version": 3
   },
   "file_extension": ".py",
   "mimetype": "text/x-python",
   "name": "python",
   "nbconvert_exporter": "python",
   "pygments_lexer": "ipython3",
   "version": "3.5.2"
  }
 },
 "nbformat": 4,
 "nbformat_minor": 1
}
