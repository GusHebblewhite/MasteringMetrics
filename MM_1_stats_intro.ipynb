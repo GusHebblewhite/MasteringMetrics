{
 "cells": [
  {
   "cell_type": "markdown",
   "metadata": {},
   "source": [
    "Basic stats using the cars dataset"
   ]
  },
  {
   "cell_type": "code",
   "execution_count": 24,
   "metadata": {
    "collapsed": false
   },
   "outputs": [
    {
     "data": {
      "text/html": [
       "<div>\n",
       "<table border=\"1\" class=\"dataframe\">\n",
       "  <thead>\n",
       "    <tr style=\"text-align: right;\">\n",
       "      <th></th>\n",
       "      <th>symboling</th>\n",
       "      <th>normalized-losses</th>\n",
       "      <th>make</th>\n",
       "      <th>fuel-type</th>\n",
       "      <th>aspiration</th>\n",
       "      <th>num-of-doors</th>\n",
       "      <th>body-style</th>\n",
       "      <th>drive-wheels</th>\n",
       "      <th>engine-location</th>\n",
       "      <th>wheel-base</th>\n",
       "      <th>length</th>\n",
       "      <th>width</th>\n",
       "      <th>height</th>\n",
       "      <th>curb-weight</th>\n",
       "      <th>engine-type</th>\n",
       "      <th>num-of-cylinders</th>\n",
       "      <th>engine-size</th>\n",
       "      <th>fuel-system</th>\n",
       "      <th>bore</th>\n",
       "      <th>stroke</th>\n",
       "      <th>compression-ratio</th>\n",
       "      <th>horsepower</th>\n",
       "      <th>peak-rpm</th>\n",
       "      <th>city-mpg</th>\n",
       "      <th>highway-mpg</th>\n",
       "      <th>price</th>\n",
       "    </tr>\n",
       "  </thead>\n",
       "  <tbody>\n",
       "    <tr>\n",
       "      <th>77</th>\n",
       "      <td>2</td>\n",
       "      <td>161</td>\n",
       "      <td>mitsubishi</td>\n",
       "      <td>gas</td>\n",
       "      <td>std</td>\n",
       "      <td>two</td>\n",
       "      <td>hatchback</td>\n",
       "      <td>fwd</td>\n",
       "      <td>front</td>\n",
       "      <td>93.7</td>\n",
       "      <td>157.3</td>\n",
       "      <td>64.4</td>\n",
       "      <td>50.8</td>\n",
       "      <td>1944</td>\n",
       "      <td>ohc</td>\n",
       "      <td>four</td>\n",
       "      <td>92</td>\n",
       "      <td>2bbl</td>\n",
       "      <td>2.97</td>\n",
       "      <td>3.23</td>\n",
       "      <td>9.4</td>\n",
       "      <td>68</td>\n",
       "      <td>5500</td>\n",
       "      <td>31</td>\n",
       "      <td>38</td>\n",
       "      <td>6189</td>\n",
       "    </tr>\n",
       "    <tr>\n",
       "      <th>10</th>\n",
       "      <td>2</td>\n",
       "      <td>192</td>\n",
       "      <td>bmw</td>\n",
       "      <td>gas</td>\n",
       "      <td>std</td>\n",
       "      <td>two</td>\n",
       "      <td>sedan</td>\n",
       "      <td>rwd</td>\n",
       "      <td>front</td>\n",
       "      <td>101.2</td>\n",
       "      <td>176.8</td>\n",
       "      <td>64.8</td>\n",
       "      <td>54.3</td>\n",
       "      <td>2395</td>\n",
       "      <td>ohc</td>\n",
       "      <td>four</td>\n",
       "      <td>108</td>\n",
       "      <td>mpfi</td>\n",
       "      <td>3.50</td>\n",
       "      <td>2.80</td>\n",
       "      <td>8.8</td>\n",
       "      <td>101</td>\n",
       "      <td>5800</td>\n",
       "      <td>23</td>\n",
       "      <td>29</td>\n",
       "      <td>16430</td>\n",
       "    </tr>\n",
       "    <tr>\n",
       "      <th>42</th>\n",
       "      <td>1</td>\n",
       "      <td>107</td>\n",
       "      <td>honda</td>\n",
       "      <td>gas</td>\n",
       "      <td>std</td>\n",
       "      <td>two</td>\n",
       "      <td>sedan</td>\n",
       "      <td>fwd</td>\n",
       "      <td>front</td>\n",
       "      <td>96.5</td>\n",
       "      <td>169.1</td>\n",
       "      <td>66.0</td>\n",
       "      <td>51.0</td>\n",
       "      <td>2293</td>\n",
       "      <td>ohc</td>\n",
       "      <td>four</td>\n",
       "      <td>110</td>\n",
       "      <td>2bbl</td>\n",
       "      <td>3.15</td>\n",
       "      <td>3.58</td>\n",
       "      <td>9.1</td>\n",
       "      <td>100</td>\n",
       "      <td>5500</td>\n",
       "      <td>25</td>\n",
       "      <td>31</td>\n",
       "      <td>10345</td>\n",
       "    </tr>\n",
       "    <tr>\n",
       "      <th>33</th>\n",
       "      <td>1</td>\n",
       "      <td>101</td>\n",
       "      <td>honda</td>\n",
       "      <td>gas</td>\n",
       "      <td>std</td>\n",
       "      <td>two</td>\n",
       "      <td>hatchback</td>\n",
       "      <td>fwd</td>\n",
       "      <td>front</td>\n",
       "      <td>93.7</td>\n",
       "      <td>150.0</td>\n",
       "      <td>64.0</td>\n",
       "      <td>52.6</td>\n",
       "      <td>1940</td>\n",
       "      <td>ohc</td>\n",
       "      <td>four</td>\n",
       "      <td>92</td>\n",
       "      <td>1bbl</td>\n",
       "      <td>2.91</td>\n",
       "      <td>3.41</td>\n",
       "      <td>9.2</td>\n",
       "      <td>76</td>\n",
       "      <td>6000</td>\n",
       "      <td>30</td>\n",
       "      <td>34</td>\n",
       "      <td>6529</td>\n",
       "    </tr>\n",
       "    <tr>\n",
       "      <th>53</th>\n",
       "      <td>1</td>\n",
       "      <td>113</td>\n",
       "      <td>mazda</td>\n",
       "      <td>gas</td>\n",
       "      <td>std</td>\n",
       "      <td>four</td>\n",
       "      <td>sedan</td>\n",
       "      <td>fwd</td>\n",
       "      <td>front</td>\n",
       "      <td>93.1</td>\n",
       "      <td>166.8</td>\n",
       "      <td>64.2</td>\n",
       "      <td>54.1</td>\n",
       "      <td>1945</td>\n",
       "      <td>ohc</td>\n",
       "      <td>four</td>\n",
       "      <td>91</td>\n",
       "      <td>2bbl</td>\n",
       "      <td>3.03</td>\n",
       "      <td>3.15</td>\n",
       "      <td>9.0</td>\n",
       "      <td>68</td>\n",
       "      <td>5000</td>\n",
       "      <td>31</td>\n",
       "      <td>38</td>\n",
       "      <td>6695</td>\n",
       "    </tr>\n",
       "  </tbody>\n",
       "</table>\n",
       "</div>"
      ],
      "text/plain": [
       "    symboling normalized-losses        make fuel-type aspiration num-of-doors  \\\n",
       "77          2               161  mitsubishi       gas        std          two   \n",
       "10          2               192         bmw       gas        std          two   \n",
       "42          1               107       honda       gas        std          two   \n",
       "33          1               101       honda       gas        std          two   \n",
       "53          1               113       mazda       gas        std         four   \n",
       "\n",
       "   body-style drive-wheels engine-location  wheel-base  length  width  height  \\\n",
       "77  hatchback          fwd           front        93.7   157.3   64.4    50.8   \n",
       "10      sedan          rwd           front       101.2   176.8   64.8    54.3   \n",
       "42      sedan          fwd           front        96.5   169.1   66.0    51.0   \n",
       "33  hatchback          fwd           front        93.7   150.0   64.0    52.6   \n",
       "53      sedan          fwd           front        93.1   166.8   64.2    54.1   \n",
       "\n",
       "    curb-weight engine-type num-of-cylinders  engine-size fuel-system  bore  \\\n",
       "77         1944         ohc             four           92        2bbl  2.97   \n",
       "10         2395         ohc             four          108        mpfi  3.50   \n",
       "42         2293         ohc             four          110        2bbl  3.15   \n",
       "33         1940         ohc             four           92        1bbl  2.91   \n",
       "53         1945         ohc             four           91        2bbl  3.03   \n",
       "\n",
       "   stroke  compression-ratio horsepower peak-rpm  city-mpg  highway-mpg  price  \n",
       "77   3.23                9.4         68     5500        31           38   6189  \n",
       "10   2.80                8.8        101     5800        23           29  16430  \n",
       "42   3.58                9.1        100     5500        25           31  10345  \n",
       "33   3.41                9.2         76     6000        30           34   6529  \n",
       "53   3.15                9.0         68     5000        31           38   6695  "
      ]
     },
     "metadata": {},
     "output_type": "display_data"
    }
   ],
   "source": [
    "%matplotlib inline\n",
    "import pandas as pd\n",
    "import numpy as np\n",
    "from IPython.display import display\n",
    "\n",
    "pd.options.display.max_columns = 100\n",
    "\n",
    "cars_data = pd.read_csv('cars_csv.csv')\n",
    "\n",
    "#print sample of dataframe:\n",
    "display(cars_data.sample(5))"
   ]
  },
  {
   "cell_type": "markdown",
   "metadata": {},
   "source": [
    "That's cool and everything but let's just look at one column , clean it up, and then do some stats:"
   ]
  },
  {
   "cell_type": "code",
   "execution_count": 25,
   "metadata": {
    "collapsed": false,
    "scrolled": true
   },
   "outputs": [],
   "source": [
    "#Cleaning (remove NaNs and '?' entries)\n",
    "column = cars_data.ix[:, 'horsepower']\n",
    "column.replace('?', np.nan, inplace = True)\n",
    "column.dropna(inplace = True)"
   ]
  },
  {
   "cell_type": "code",
   "execution_count": 26,
   "metadata": {
    "collapsed": false
   },
   "outputs": [
    {
     "name": "stdout",
     "output_type": "stream",
     "text": [
      "Population mean: 104.25615763546799\n",
      "Population standard deviation: 39.61642938052156\n"
     ]
    }
   ],
   "source": [
    "#Lets get the 'population' stats;\n",
    "column = pd.to_numeric(column)\n",
    "pop_mean = column.mean()\n",
    "print(\"Population mean: {}\".format(pop_mean))\n",
    "pop_std = np.std(column)\n",
    "print(\"Population standard deviation: {}\".format(pop_std))"
   ]
  },
  {
   "cell_type": "code",
   "execution_count": 27,
   "metadata": {
    "collapsed": false
   },
   "outputs": [
    {
     "name": "stdout",
     "output_type": "stream",
     "text": [
      "Samplw mean: 100.9\n",
      "Sample standard error: 27.897849379477265\n"
     ]
    }
   ],
   "source": [
    "#Now let's grab a sample and see how we go;\n",
    "sample = column.sample(n=10)\n",
    "smpl_mean = sample.mean()\n",
    "print(\"Samplw mean: {}\".format(smpl_mean))\n",
    "smpl_std = np.std(sample)\n",
    "print(\"Sample standard error: {}\".format(smpl_std))"
   ]
  },
  {
   "cell_type": "markdown",
   "metadata": {},
   "source": [
    "Let's do some plots of the distribution and also the distribution of t-statistics"
   ]
  },
  {
   "cell_type": "code",
   "execution_count": 28,
   "metadata": {
    "collapsed": false
   },
   "outputs": [
    {
     "data": {
      "text/plain": [
       "<matplotlib.axes._subplots.AxesSubplot at 0x2c7b6045f28>"
      ]
     },
     "execution_count": 28,
     "metadata": {},
     "output_type": "execute_result"
    },
    {
     "data": {
      "image/png": "[encoded data removed]",
      "text/plain": [
       "<matplotlib.figure.Figure at 0x2c7b58cb630>"
      ]
     },
     "metadata": {},
     "output_type": "display_data"
    }
   ],
   "source": [
    "column.hist()"
   ]
  },
  {
   "cell_type": "code",
   "execution_count": 41,
   "metadata": {
    "collapsed": false
   },
   "outputs": [
    {
     "data": {
      "text/plain": [
       "<matplotlib.axes._subplots.AxesSubplot at 0x2c7b7ea5a90>"
      ]
     },
     "execution_count": 41,
     "metadata": {},
     "output_type": "execute_result"
    },
    {
     "data": {
      "image/png": "[encoded data removed]",
      "text/plain": [
       "<matplotlib.figure.Figure at 0x2c7b7f4a5f8>"
      ]
     },
     "metadata": {},
     "output_type": "display_data"
    }
   ],
   "source": [
    "#Value for the assumed population mean:\n",
    "mu = 90\n",
    "t_stat = []\n",
    "for _ in range(50000):\n",
    "    sample = column.sample(n=30)\n",
    "    smpl_mean = sample.mean()\n",
    "    smpl_std = np.std(sample)\n",
    "    t_stat.append((smpl_mean - mu) / smpl_std)\n",
    "    \n",
    "#Plot the histogram:\n",
    "pd.Series(t_stat).hist(bins = 30)"
   ]
  },
  {
   "cell_type": "code",
   "execution_count": 42,
   "metadata": {
    "collapsed": false
   },
   "outputs": [
    {
     "data": {
      "text/plain": [
       "<matplotlib.axes._subplots.AxesSubplot at 0x2c7b9097630>"
      ]
     },
     "execution_count": 42,
     "metadata": {},
     "output_type": "execute_result"
    },
    {
     "data": {
      "image/png": "[encoded data removed]",
      "text/plain": [
       "<matplotlib.figure.Figure at 0x2c7b7f4a630>"
      ]
     },
     "metadata": {},
     "output_type": "display_data"
    }
   ],
   "source": [
    "#Value for the assumed population mean:\n",
    "mu = 100\n",
    "t_stat = []\n",
    "for _ in range(50000):\n",
    "    sample = column.sample(n=30)\n",
    "    smpl_mean = sample.mean()\n",
    "    smpl_std = np.std(sample)\n",
    "    t_stat.append((smpl_mean - mu) / smpl_std)\n",
    "    \n",
    "#Plot the histogram:\n",
    "pd.Series(t_stat).hist(bins = 30)"
   ]
  },
  {
   "cell_type": "markdown",
   "metadata": {},
   "source": [
    "Notice how the mean of the second distribution is much closer to 0. This signifies that it is a better approximation of $\\mu$.\n",
    "\n",
    "Now let's calculate the 95% confidence interval (the band within 2 Standard Errors to either side of our population mean;"
   ]
  },
  {
   "cell_type": "code",
   "execution_count": 45,
   "metadata": {
    "collapsed": false
   },
   "outputs": [
    {
     "name": "stdout",
     "output_type": "stream",
     "text": [
      "95% confidence interval: 46.68901629395643 to 152.31098370604357\n"
     ]
    }
   ],
   "source": [
    "#Get a sample:\n",
    "sample = column.sample(n=10)\n",
    "smpl_mean = sample.mean()\n",
    "smpl_std = np.std(sample)\n",
    "print(\"95% confidence interval: {} to {}\".format(smpl_mean - 2*smpl_std, smpl_mean + 2 * smpl_std))"
   ]
  },
  {
   "cell_type": "markdown",
   "metadata": {},
   "source": [
    "Let's now grab two random samples and try to work out whether they are likely to be from the same distribution:"
   ]
  },
  {
   "cell_type": "code",
   "execution_count": 52,
   "metadata": {
    "collapsed": false
   },
   "outputs": [
    {
     "name": "stdout",
     "output_type": "stream",
     "text": [
      "The t-stat of sample 1 and 2 is 0.496121291542002.\n"
     ]
    }
   ],
   "source": [
    "s1, s2 = column.sample(n=10), column.sample(n=10)\n",
    "s1_mean, s2_mean = s1.mean(), s2.mean()\n",
    "smpl_std = np.std(s1.append(s2))\n",
    "t_stat = abs(s1_mean-s2_mean)/smpl_std\n",
    "print(\"The t-stat of sample 1 and 2 is {}.\".format(t_stat))"
   ]
  },
  {
   "cell_type": "code",
   "execution_count": 49,
   "metadata": {
    "collapsed": false
   },
   "outputs": [
    {
     "data": {
      "text/plain": [
       "146     82\n",
       "119    102\n",
       "122     68\n",
       "1      111\n",
       "120     68\n",
       "178    161\n",
       "86      88\n",
       "80     116\n",
       "106    160\n",
       "95      69\n",
       "43      78\n",
       "5      110\n",
       "61      84\n",
       "112     95\n",
       "146     82\n",
       "25      68\n",
       "90      55\n",
       "201    160\n",
       "123     88\n",
       "177     92\n",
       "Name: horsepower, dtype: int64"
      ]
     },
     "execution_count": 49,
     "metadata": {},
     "output_type": "execute_result"
    }
   ],
   "source": []
  },
  {
   "cell_type": "code",
   "execution_count": null,
   "metadata": {
    "collapsed": true
   },
   "outputs": [],
   "source": []
  }
 ],
 "metadata": {
  "anaconda-cloud": {},
  "kernelspec": {
   "display_name": "Python [conda root]",
   "language": "python",
   "name": "conda-root-py"
  },
  "language_info": {
   "codemirror_mode": {
    "name": "ipython",
    "version": 3
   },
   "file_extension": ".py",
   "mimetype": "text/x-python",
   "name": "python",
   "nbconvert_exporter": "python",
   "pygments_lexer": "ipython3",
   "version": "3.5.2"
  }
 },
 "nbformat": 4,
 "nbformat_minor": 1
}
