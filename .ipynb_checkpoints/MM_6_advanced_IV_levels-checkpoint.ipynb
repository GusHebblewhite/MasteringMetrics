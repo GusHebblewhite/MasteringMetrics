{
 "cells": [
  {
   "cell_type": "markdown",
   "metadata": {},
   "source": [
    "# Advanced IV\n",
    "IV is pretty handy for linking variables. It can also be used for controlling for attenuation bias.\n",
    "\n",
    "**Attenu-what?**  \n",
    "Attenuation Bias is an underestimated of a treatment effect due to incorrect data. An example is that if we have some group of twins and we are trying to use them (since they are a natural experiment controlling for heaps of stuff; parents, even genes, etc) to work out the value of education. \n",
    "\n"
   ]
  },
  {
   "cell_type": "code",
   "execution_count": 46,
   "metadata": {
    "collapsed": false
   },
   "outputs": [],
   "source": [
    "#meta-params:\n",
    "num_twins = 100\n",
    "\n",
    "import pandas as pd\n",
    "import numpy as np\n",
    "\n",
    "twins_db = pd.DataFrame()\n",
    "\n",
    "#Generate data for number of years educating\n",
    "twins_db['Education_1'] = [round(np.random.normal(loc= 14, scale=2)) for x in range(num_twins)]\n",
    "twins_db['Education_2'] = [round(np.random.normal(loc= 14, scale=2)) for x in range(num_twins)]\n",
    "\n",
    "#Function for generating salary from education\n",
    "def sal_f_edu(edu):\n",
    "    import numpy as np\n",
    "    slope = 4\n",
    "    rand = np.random.normal(0, 15)\n",
    "    return round(slope * edu + rand)\n",
    "\n",
    "#Generate data for salary\n",
    "twins_db['Salary_1'] = twins_db['Education_1'].apply(sal_f_edu)\n",
    "twins_db['Salary_2'] = twins_db['Education_2'].apply(sal_f_edu)\n",
    "\n",
    "#Store the diferences in the schooling and salary:\n",
    "twins_db['diff_ed']   = twins_db['Education_1'] - twins_db['Education_2']\n",
    "twins_db['diff_sal']  = twins_db['Salary_1'] - twins_db['Salary_2']\n",
    "\n",
    "#Add an constant and convert whole df to float:\n",
    "twins_db['const'] = 1\n",
    "twins_db = twins_db.astype(float)"
   ]
  },
  {
   "cell_type": "code",
   "execution_count": 47,
   "metadata": {
    "collapsed": false
   },
   "outputs": [
    {
     "data": {
      "text/html": [
       "<div>\n",
       "<table border=\"1\" class=\"dataframe\">\n",
       "  <thead>\n",
       "    <tr style=\"text-align: right;\">\n",
       "      <th></th>\n",
       "      <th>Education_1</th>\n",
       "      <th>Education_2</th>\n",
       "      <th>Salary_1</th>\n",
       "      <th>Salary_2</th>\n",
       "      <th>diff_ed</th>\n",
       "      <th>diff_sal</th>\n",
       "      <th>const</th>\n",
       "    </tr>\n",
       "  </thead>\n",
       "  <tbody>\n",
       "    <tr>\n",
       "      <th>10</th>\n",
       "      <td>15.0</td>\n",
       "      <td>11.0</td>\n",
       "      <td>70.0</td>\n",
       "      <td>37.0</td>\n",
       "      <td>4.0</td>\n",
       "      <td>33.0</td>\n",
       "      <td>1.0</td>\n",
       "    </tr>\n",
       "    <tr>\n",
       "      <th>57</th>\n",
       "      <td>14.0</td>\n",
       "      <td>14.0</td>\n",
       "      <td>51.0</td>\n",
       "      <td>54.0</td>\n",
       "      <td>0.0</td>\n",
       "      <td>-3.0</td>\n",
       "      <td>1.0</td>\n",
       "    </tr>\n",
       "    <tr>\n",
       "      <th>15</th>\n",
       "      <td>12.0</td>\n",
       "      <td>13.0</td>\n",
       "      <td>49.0</td>\n",
       "      <td>76.0</td>\n",
       "      <td>-1.0</td>\n",
       "      <td>-27.0</td>\n",
       "      <td>1.0</td>\n",
       "    </tr>\n",
       "    <tr>\n",
       "      <th>68</th>\n",
       "      <td>15.0</td>\n",
       "      <td>12.0</td>\n",
       "      <td>64.0</td>\n",
       "      <td>48.0</td>\n",
       "      <td>3.0</td>\n",
       "      <td>16.0</td>\n",
       "      <td>1.0</td>\n",
       "    </tr>\n",
       "    <tr>\n",
       "      <th>60</th>\n",
       "      <td>10.0</td>\n",
       "      <td>16.0</td>\n",
       "      <td>31.0</td>\n",
       "      <td>76.0</td>\n",
       "      <td>-6.0</td>\n",
       "      <td>-45.0</td>\n",
       "      <td>1.0</td>\n",
       "    </tr>\n",
       "  </tbody>\n",
       "</table>\n",
       "</div>"
      ],
      "text/plain": [
       "    Education_1  Education_2  Salary_1  Salary_2  diff_ed  diff_sal  const\n",
       "10         15.0         11.0      70.0      37.0      4.0      33.0    1.0\n",
       "57         14.0         14.0      51.0      54.0      0.0      -3.0    1.0\n",
       "15         12.0         13.0      49.0      76.0     -1.0     -27.0    1.0\n",
       "68         15.0         12.0      64.0      48.0      3.0      16.0    1.0\n",
       "60         10.0         16.0      31.0      76.0     -6.0     -45.0    1.0"
      ]
     },
     "execution_count": 47,
     "metadata": {},
     "output_type": "execute_result"
    }
   ],
   "source": [
    "twins_db.sample(5)"
   ]
  },
  {
   "cell_type": "code",
   "execution_count": 48,
   "metadata": {
    "collapsed": false
   },
   "outputs": [
    {
     "data": {
      "text/html": [
       "<table class=\"simpletable\">\n",
       "<tr>\n",
       "        <td>Model:</td>               <td>OLS</td>         <td>Adj. R-squared:</td>     <td>0.240</td> \n",
       "</tr>\n",
       "<tr>\n",
       "  <td>Dependent Variable:</td>     <td>diff_sal</td>            <td>AIC:</td>         <td>921.1432</td>\n",
       "</tr>\n",
       "<tr>\n",
       "         <td>Date:</td>        <td>2016-12-01 18:17</td>        <td>BIC:</td>         <td>926.3536</td>\n",
       "</tr>\n",
       "<tr>\n",
       "   <td>No. Observations:</td>         <td>100</td>         <td>Log-Likelihood:</td>    <td>-458.57</td>\n",
       "</tr>\n",
       "<tr>\n",
       "       <td>Df Model:</td>              <td>1</td>           <td>F-statistic:</td>       <td>32.33</td> \n",
       "</tr>\n",
       "<tr>\n",
       "     <td>Df Residuals:</td>           <td>98</td>        <td>Prob (F-statistic):</td> <td>1.34e-07</td>\n",
       "</tr>\n",
       "<tr>\n",
       "      <td>R-squared:</td>            <td>0.248</td>            <td>Scale:</td>         <td>574.65</td> \n",
       "</tr>\n",
       "</table>\n",
       "<table class=\"simpletable\">\n",
       "<tr>\n",
       "     <td></td>      <th>Coef.</th> <th>Std.Err.</th>    <th>t</th>    <th>P>|t|</th> <th>[0.025</th>  <th>0.975]</th>\n",
       "</tr>\n",
       "<tr>\n",
       "  <th>diff_ed</th> <td>4.6803</td>  <td>0.8231</td>  <td>5.6864</td> <td>0.0000</td> <td>3.0470</td>  <td>6.3137</td>\n",
       "</tr>\n",
       "<tr>\n",
       "  <th>const</th>   <td>1.6667</td>  <td>2.4053</td>  <td>0.6929</td> <td>0.4900</td> <td>-3.1065</td> <td>6.4400</td>\n",
       "</tr>\n",
       "</table>\n",
       "<table class=\"simpletable\">\n",
       "<tr>\n",
       "     <td>Omnibus:</td>     <td>3.342</td>  <td>Durbin-Watson:</td>   <td>1.860</td>\n",
       "</tr>\n",
       "<tr>\n",
       "  <td>Prob(Omnibus):</td>  <td>0.188</td> <td>Jarque-Bera (JB):</td> <td>2.086</td>\n",
       "</tr>\n",
       "<tr>\n",
       "       <td>Skew:</td>     <td>-0.118</td>     <td>Prob(JB):</td>     <td>0.352</td>\n",
       "</tr>\n",
       "<tr>\n",
       "     <td>Kurtosis:</td>    <td>2.333</td>  <td>Condition No.:</td>     <td>3</td>  \n",
       "</tr>\n",
       "</table>"
      ],
      "text/plain": [
       "<class 'statsmodels.iolib.summary2.Summary'>\n",
       "\"\"\"\n",
       "                 Results: Ordinary least squares\n",
       "=================================================================\n",
       "Model:              OLS              Adj. R-squared:     0.240   \n",
       "Dependent Variable: diff_sal         AIC:                921.1432\n",
       "Date:               2016-12-01 18:17 BIC:                926.3536\n",
       "No. Observations:   100              Log-Likelihood:     -458.57 \n",
       "Df Model:           1                F-statistic:        32.33   \n",
       "Df Residuals:       98               Prob (F-statistic): 1.34e-07\n",
       "R-squared:          0.248            Scale:              574.65  \n",
       "-------------------------------------------------------------------\n",
       "             Coef.    Std.Err.     t      P>|t|     [0.025   0.975]\n",
       "-------------------------------------------------------------------\n",
       "diff_ed      4.6803     0.8231   5.6864   0.0000    3.0470   6.3137\n",
       "const        1.6667     2.4053   0.6929   0.4900   -3.1065   6.4400\n",
       "-----------------------------------------------------------------\n",
       "Omnibus:               3.342        Durbin-Watson:          1.860\n",
       "Prob(Omnibus):         0.188        Jarque-Bera (JB):       2.086\n",
       "Skew:                  -0.118       Prob(JB):               0.352\n",
       "Kurtosis:              2.333        Condition No.:          3    \n",
       "=================================================================\n",
       "\n",
       "\"\"\""
      ]
     },
     "execution_count": 48,
     "metadata": {},
     "output_type": "execute_result"
    }
   ],
   "source": [
    "X = 'diff_ed'\n",
    "A = 'same_school'\n",
    "y = 'diff_sal'\n",
    "\n",
    "#Run a linear regression\n",
    "import statsmodels.api as sm\n",
    "lr = sm.OLS(twins_db[y],\n",
    "            twins_db[[X, 'const']])\n",
    "result = lr.fit()\n",
    "result.summary2()"
   ]
  },
  {
   "cell_type": "code",
   "execution_count": null,
   "metadata": {
    "collapsed": true
   },
   "outputs": [],
   "source": []
  }
 ],
 "metadata": {
  "anaconda-cloud": {},
  "kernelspec": {
   "display_name": "Python [conda root]",
   "language": "python",
   "name": "conda-root-py"
  },
  "language_info": {
   "codemirror_mode": {
    "name": "ipython",
    "version": 3
   },
   "file_extension": ".py",
   "mimetype": "text/x-python",
   "name": "python",
   "nbconvert_exporter": "python",
   "pygments_lexer": "ipython3",
   "version": "3.5.2"
  }
 },
 "nbformat": 4,
 "nbformat_minor": 1
}
