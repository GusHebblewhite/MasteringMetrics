{
 "cells": [
  {
   "cell_type": "code",
   "execution_count": 34,
   "metadata": {
    "collapsed": false
   },
   "outputs": [
    {
     "data": {
      "text/html": [
       "<div>\n",
       "<table border=\"1\" class=\"dataframe\">\n",
       "  <thead>\n",
       "    <tr style=\"text-align: right;\">\n",
       "      <th></th>\n",
       "      <th>symboling</th>\n",
       "      <th>normalized-losses</th>\n",
       "      <th>make</th>\n",
       "      <th>fuel-type</th>\n",
       "      <th>aspiration</th>\n",
       "      <th>num-of-doors</th>\n",
       "      <th>body-style</th>\n",
       "      <th>drive-wheels</th>\n",
       "      <th>engine-location</th>\n",
       "      <th>wheel-base</th>\n",
       "      <th>length</th>\n",
       "      <th>width</th>\n",
       "      <th>height</th>\n",
       "      <th>curb-weight</th>\n",
       "      <th>engine-type</th>\n",
       "      <th>num-of-cylinders</th>\n",
       "      <th>engine-size</th>\n",
       "      <th>fuel-system</th>\n",
       "      <th>bore</th>\n",
       "      <th>stroke</th>\n",
       "      <th>compression-ratio</th>\n",
       "      <th>horsepower</th>\n",
       "      <th>peak-rpm</th>\n",
       "      <th>city-mpg</th>\n",
       "      <th>highway-mpg</th>\n",
       "      <th>price</th>\n",
       "    </tr>\n",
       "  </thead>\n",
       "  <tbody>\n",
       "    <tr>\n",
       "      <th>77</th>\n",
       "      <td>2</td>\n",
       "      <td>161</td>\n",
       "      <td>mitsubishi</td>\n",
       "      <td>gas</td>\n",
       "      <td>std</td>\n",
       "      <td>two</td>\n",
       "      <td>hatchback</td>\n",
       "      <td>fwd</td>\n",
       "      <td>front</td>\n",
       "      <td>93.7</td>\n",
       "      <td>157.3</td>\n",
       "      <td>64.4</td>\n",
       "      <td>50.8</td>\n",
       "      <td>1944</td>\n",
       "      <td>ohc</td>\n",
       "      <td>four</td>\n",
       "      <td>92</td>\n",
       "      <td>2bbl</td>\n",
       "      <td>2.97</td>\n",
       "      <td>3.23</td>\n",
       "      <td>9.4</td>\n",
       "      <td>68</td>\n",
       "      <td>5500</td>\n",
       "      <td>31</td>\n",
       "      <td>38</td>\n",
       "      <td>6189</td>\n",
       "    </tr>\n",
       "    <tr>\n",
       "      <th>23</th>\n",
       "      <td>1</td>\n",
       "      <td>118</td>\n",
       "      <td>dodge</td>\n",
       "      <td>gas</td>\n",
       "      <td>turbo</td>\n",
       "      <td>two</td>\n",
       "      <td>hatchback</td>\n",
       "      <td>fwd</td>\n",
       "      <td>front</td>\n",
       "      <td>93.7</td>\n",
       "      <td>157.3</td>\n",
       "      <td>63.8</td>\n",
       "      <td>50.8</td>\n",
       "      <td>2128</td>\n",
       "      <td>ohc</td>\n",
       "      <td>four</td>\n",
       "      <td>98</td>\n",
       "      <td>mpfi</td>\n",
       "      <td>3.03</td>\n",
       "      <td>3.39</td>\n",
       "      <td>7.6</td>\n",
       "      <td>102</td>\n",
       "      <td>5500</td>\n",
       "      <td>24</td>\n",
       "      <td>30</td>\n",
       "      <td>7957</td>\n",
       "    </tr>\n",
       "    <tr>\n",
       "      <th>106</th>\n",
       "      <td>1</td>\n",
       "      <td>231</td>\n",
       "      <td>nissan</td>\n",
       "      <td>gas</td>\n",
       "      <td>std</td>\n",
       "      <td>two</td>\n",
       "      <td>hatchback</td>\n",
       "      <td>rwd</td>\n",
       "      <td>front</td>\n",
       "      <td>99.2</td>\n",
       "      <td>178.5</td>\n",
       "      <td>67.9</td>\n",
       "      <td>49.7</td>\n",
       "      <td>3139</td>\n",
       "      <td>ohcv</td>\n",
       "      <td>six</td>\n",
       "      <td>181</td>\n",
       "      <td>mpfi</td>\n",
       "      <td>3.43</td>\n",
       "      <td>3.27</td>\n",
       "      <td>9.0</td>\n",
       "      <td>160</td>\n",
       "      <td>5200</td>\n",
       "      <td>19</td>\n",
       "      <td>25</td>\n",
       "      <td>18399</td>\n",
       "    </tr>\n",
       "    <tr>\n",
       "      <th>32</th>\n",
       "      <td>1</td>\n",
       "      <td>101</td>\n",
       "      <td>honda</td>\n",
       "      <td>gas</td>\n",
       "      <td>std</td>\n",
       "      <td>two</td>\n",
       "      <td>hatchback</td>\n",
       "      <td>fwd</td>\n",
       "      <td>front</td>\n",
       "      <td>93.7</td>\n",
       "      <td>150.0</td>\n",
       "      <td>64.0</td>\n",
       "      <td>52.6</td>\n",
       "      <td>1837</td>\n",
       "      <td>ohc</td>\n",
       "      <td>four</td>\n",
       "      <td>79</td>\n",
       "      <td>1bbl</td>\n",
       "      <td>2.91</td>\n",
       "      <td>3.07</td>\n",
       "      <td>10.1</td>\n",
       "      <td>60</td>\n",
       "      <td>5500</td>\n",
       "      <td>38</td>\n",
       "      <td>42</td>\n",
       "      <td>5399</td>\n",
       "    </tr>\n",
       "    <tr>\n",
       "      <th>50</th>\n",
       "      <td>1</td>\n",
       "      <td>104</td>\n",
       "      <td>mazda</td>\n",
       "      <td>gas</td>\n",
       "      <td>std</td>\n",
       "      <td>two</td>\n",
       "      <td>hatchback</td>\n",
       "      <td>fwd</td>\n",
       "      <td>front</td>\n",
       "      <td>93.1</td>\n",
       "      <td>159.1</td>\n",
       "      <td>64.2</td>\n",
       "      <td>54.1</td>\n",
       "      <td>1890</td>\n",
       "      <td>ohc</td>\n",
       "      <td>four</td>\n",
       "      <td>91</td>\n",
       "      <td>2bbl</td>\n",
       "      <td>3.03</td>\n",
       "      <td>3.15</td>\n",
       "      <td>9.0</td>\n",
       "      <td>68</td>\n",
       "      <td>5000</td>\n",
       "      <td>30</td>\n",
       "      <td>31</td>\n",
       "      <td>5195</td>\n",
       "    </tr>\n",
       "  </tbody>\n",
       "</table>\n",
       "</div>"
      ],
      "text/plain": [
       "     symboling normalized-losses        make fuel-type aspiration  \\\n",
       "77           2               161  mitsubishi       gas        std   \n",
       "23           1               118       dodge       gas      turbo   \n",
       "106          1               231      nissan       gas        std   \n",
       "32           1               101       honda       gas        std   \n",
       "50           1               104       mazda       gas        std   \n",
       "\n",
       "    num-of-doors body-style drive-wheels engine-location  wheel-base  length  \\\n",
       "77           two  hatchback          fwd           front        93.7   157.3   \n",
       "23           two  hatchback          fwd           front        93.7   157.3   \n",
       "106          two  hatchback          rwd           front        99.2   178.5   \n",
       "32           two  hatchback          fwd           front        93.7   150.0   \n",
       "50           two  hatchback          fwd           front        93.1   159.1   \n",
       "\n",
       "     width  height  curb-weight engine-type num-of-cylinders  engine-size  \\\n",
       "77    64.4    50.8         1944         ohc             four           92   \n",
       "23    63.8    50.8         2128         ohc             four           98   \n",
       "106   67.9    49.7         3139        ohcv              six          181   \n",
       "32    64.0    52.6         1837         ohc             four           79   \n",
       "50    64.2    54.1         1890         ohc             four           91   \n",
       "\n",
       "    fuel-system  bore stroke  compression-ratio horsepower peak-rpm  city-mpg  \\\n",
       "77         2bbl  2.97   3.23                9.4         68     5500        31   \n",
       "23         mpfi  3.03   3.39                7.6        102     5500        24   \n",
       "106        mpfi  3.43   3.27                9.0        160     5200        19   \n",
       "32         1bbl  2.91   3.07               10.1         60     5500        38   \n",
       "50         2bbl  3.03   3.15                9.0         68     5000        30   \n",
       "\n",
       "     highway-mpg  price  \n",
       "77            38   6189  \n",
       "23            30   7957  \n",
       "106           25  18399  \n",
       "32            42   5399  \n",
       "50            31   5195  "
      ]
     },
     "metadata": {},
     "output_type": "display_data"
    }
   ],
   "source": [
    "%matplotlib inline\n",
    "\n",
    "import pandas as pd\n",
    "import numpy as np\n",
    "from IPython.display import display\n",
    "\n",
    "pd.options.display.max_columns = 100\n",
    "\n",
    "cars_data = pd.read_csv('cars_csv.csv')\n",
    "\n",
    "display(cars_data.sample(5))"
   ]
  },
  {
   "cell_type": "markdown",
   "metadata": {},
   "source": [
    "Let's start by running a regression on the effect of 'number of doors' on 'horsepower' without any controls:"
   ]
  },
  {
   "cell_type": "code",
   "execution_count": 35,
   "metadata": {
    "collapsed": false
   },
   "outputs": [
    {
     "data": {
      "text/html": [
       "<div>\n",
       "<table border=\"1\" class=\"dataframe\">\n",
       "  <thead>\n",
       "    <tr style=\"text-align: right;\">\n",
       "      <th></th>\n",
       "      <th>horsepower</th>\n",
       "      <th>num-of-doors_two</th>\n",
       "    </tr>\n",
       "  </thead>\n",
       "  <tbody>\n",
       "    <tr>\n",
       "      <th>188</th>\n",
       "      <td>100</td>\n",
       "      <td>0.0</td>\n",
       "    </tr>\n",
       "    <tr>\n",
       "      <th>51</th>\n",
       "      <td>68</td>\n",
       "      <td>1.0</td>\n",
       "    </tr>\n",
       "    <tr>\n",
       "      <th>160</th>\n",
       "      <td>70</td>\n",
       "      <td>0.0</td>\n",
       "    </tr>\n",
       "    <tr>\n",
       "      <th>45</th>\n",
       "      <td>70</td>\n",
       "      <td>0.0</td>\n",
       "    </tr>\n",
       "    <tr>\n",
       "      <th>186</th>\n",
       "      <td>85</td>\n",
       "      <td>0.0</td>\n",
       "    </tr>\n",
       "    <tr>\n",
       "      <th>4</th>\n",
       "      <td>115</td>\n",
       "      <td>0.0</td>\n",
       "    </tr>\n",
       "    <tr>\n",
       "      <th>150</th>\n",
       "      <td>62</td>\n",
       "      <td>1.0</td>\n",
       "    </tr>\n",
       "    <tr>\n",
       "      <th>15</th>\n",
       "      <td>182</td>\n",
       "      <td>0.0</td>\n",
       "    </tr>\n",
       "    <tr>\n",
       "      <th>137</th>\n",
       "      <td>160</td>\n",
       "      <td>0.0</td>\n",
       "    </tr>\n",
       "    <tr>\n",
       "      <th>133</th>\n",
       "      <td>110</td>\n",
       "      <td>0.0</td>\n",
       "    </tr>\n",
       "  </tbody>\n",
       "</table>\n",
       "</div>"
      ],
      "text/plain": [
       "    horsepower  num-of-doors_two\n",
       "188        100               0.0\n",
       "51          68               1.0\n",
       "160         70               0.0\n",
       "45          70               0.0\n",
       "186         85               0.0\n",
       "4          115               0.0\n",
       "150         62               1.0\n",
       "15         182               0.0\n",
       "137        160               0.0\n",
       "133        110               0.0"
      ]
     },
     "metadata": {},
     "output_type": "display_data"
    }
   ],
   "source": [
    "#get relevant columns\n",
    "reg_data = cars_data.ix[:, ['num-of-doors', 'horsepower']]\n",
    "\n",
    "#clean\n",
    "reg_data.replace('?', np.nan, inplace = True)\n",
    "reg_data.dropna(inplace = True)\n",
    "\n",
    "#Dummify\n",
    "reg_data = pd.get_dummies(reg_data, columns=['num-of-doors'], drop_first=True)\n",
    "\n",
    "#sanity check\n",
    "display(reg_data.sample(10))"
   ]
  },
  {
   "cell_type": "code",
   "execution_count": 36,
   "metadata": {
    "collapsed": false
   },
   "outputs": [
    {
     "name": "stdout",
     "output_type": "stream",
     "text": [
      "Beta = 10.002413515687854\n",
      "Score = 0.015615717168255938\n"
     ]
    }
   ],
   "source": [
    "\n",
    "\n",
    "from sklearn.linear_model import LinearRegression\n",
    "\n",
    "#train a model\n",
    "lr = LinearRegression()\n",
    "lr.fit(reg_data.drop('horsepower', 1), reg_data.ix[:, 'horsepower'])\n",
    "\n",
    "#get the coefficients:\n",
    "beta = lr.coef_[0]\n",
    "print(\"Beta = {}\".format(beta))\n",
    "print(\"Score = {}\".format(lr.score(reg_data.drop('horsepower', 1), reg_data.ix[:, 'horsepower'])))\n",
    "\n",
    "\n",
    "\n"
   ]
  },
  {
   "cell_type": "code",
   "execution_count": 37,
   "metadata": {
    "collapsed": false
   },
   "outputs": [
    {
     "data": {
      "text/html": [
       "<div>\n",
       "<table border=\"1\" class=\"dataframe\">\n",
       "  <thead>\n",
       "    <tr style=\"text-align: right;\">\n",
       "      <th></th>\n",
       "      <th>horsepower</th>\n",
       "      <th>num-of-doors_two</th>\n",
       "      <th>aspiration_turbo</th>\n",
       "    </tr>\n",
       "  </thead>\n",
       "  <tbody>\n",
       "    <tr>\n",
       "      <th>40</th>\n",
       "      <td>86</td>\n",
       "      <td>0.0</td>\n",
       "      <td>0.0</td>\n",
       "    </tr>\n",
       "    <tr>\n",
       "      <th>157</th>\n",
       "      <td>70</td>\n",
       "      <td>0.0</td>\n",
       "      <td>0.0</td>\n",
       "    </tr>\n",
       "    <tr>\n",
       "      <th>154</th>\n",
       "      <td>62</td>\n",
       "      <td>0.0</td>\n",
       "      <td>0.0</td>\n",
       "    </tr>\n",
       "    <tr>\n",
       "      <th>14</th>\n",
       "      <td>121</td>\n",
       "      <td>0.0</td>\n",
       "      <td>0.0</td>\n",
       "    </tr>\n",
       "    <tr>\n",
       "      <th>189</th>\n",
       "      <td>90</td>\n",
       "      <td>1.0</td>\n",
       "      <td>0.0</td>\n",
       "    </tr>\n",
       "    <tr>\n",
       "      <th>34</th>\n",
       "      <td>76</td>\n",
       "      <td>1.0</td>\n",
       "      <td>0.0</td>\n",
       "    </tr>\n",
       "    <tr>\n",
       "      <th>182</th>\n",
       "      <td>52</td>\n",
       "      <td>1.0</td>\n",
       "      <td>0.0</td>\n",
       "    </tr>\n",
       "    <tr>\n",
       "      <th>140</th>\n",
       "      <td>73</td>\n",
       "      <td>1.0</td>\n",
       "      <td>0.0</td>\n",
       "    </tr>\n",
       "    <tr>\n",
       "      <th>186</th>\n",
       "      <td>85</td>\n",
       "      <td>0.0</td>\n",
       "      <td>0.0</td>\n",
       "    </tr>\n",
       "    <tr>\n",
       "      <th>144</th>\n",
       "      <td>82</td>\n",
       "      <td>0.0</td>\n",
       "      <td>0.0</td>\n",
       "    </tr>\n",
       "  </tbody>\n",
       "</table>\n",
       "</div>"
      ],
      "text/plain": [
       "    horsepower  num-of-doors_two  aspiration_turbo\n",
       "40          86               0.0               0.0\n",
       "157         70               0.0               0.0\n",
       "154         62               0.0               0.0\n",
       "14         121               0.0               0.0\n",
       "189         90               1.0               0.0\n",
       "34          76               1.0               0.0\n",
       "182         52               1.0               0.0\n",
       "140         73               1.0               0.0\n",
       "186         85               0.0               0.0\n",
       "144         82               0.0               0.0"
      ]
     },
     "metadata": {},
     "output_type": "display_data"
    }
   ],
   "source": [
    "#Now let's control for 'body-style' and 'make':\n",
    "\n",
    "#get relevant columns\n",
    "reg_data = cars_data.ix[:, ['num-of-doors', 'aspiration', 'horsepower']]\n",
    "\n",
    "#clean\n",
    "reg_data.replace('?', np.nan, inplace = True)\n",
    "reg_data.dropna(inplace = True)\n",
    "\n",
    "#Dummify\n",
    "reg_data = pd.get_dummies(reg_data, columns=['num-of-doors', 'aspiration'], drop_first=True)\n",
    "\n",
    "#sanity check\n",
    "display(reg_data.sample(10))"
   ]
  },
  {
   "cell_type": "code",
   "execution_count": 38,
   "metadata": {
    "collapsed": false
   },
   "outputs": [
    {
     "data": {
      "text/plain": [
       "{'aspiration_turbo': 25.730490649425043, 'num-of-doors_two': 10.91840242255596}"
      ]
     },
     "metadata": {},
     "output_type": "display_data"
    },
    {
     "name": "stdout",
     "output_type": "stream",
     "text": [
      "Intercept: 95.07901951958097\n",
      "Score = 0.07721156267073681\n"
     ]
    }
   ],
   "source": [
    "#train a model\n",
    "lr = LinearRegression()\n",
    "lr.fit(reg_data.drop('horsepower', 1), reg_data.ix[:, 'horsepower'])\n",
    "\n",
    "#get the coefficients:\n",
    "var_coefs = dict(zip(reg_data.drop('horsepower', 1).columns, lr.coef_))\n",
    "display(var_coefs)\n",
    "print('Intercept: {}'.format(lr.intercept_))\n",
    "print(\"Score = {}\".format(lr.score(reg_data.drop('horsepower', 1), reg_data.ix[:, 'horsepower'])))"
   ]
  },
  {
   "cell_type": "code",
   "execution_count": 39,
   "metadata": {
    "collapsed": false
   },
   "outputs": [
    {
     "name": "stdout",
     "output_type": "stream",
     "text": [
      "-0.915988906868\n"
     ]
    }
   ],
   "source": [
    "#This is incorrect\n",
    "##############################\n",
    "\n",
    "#Calculate the Omitted Variable Bias;\n",
    "OBV = beta - var_coefs['num-of-doors_two']\n",
    "print(OBV)"
   ]
  },
  {
   "cell_type": "markdown",
   "metadata": {},
   "source": [
    "Let's consider the very simple linear regression case from the book;"
   ]
  },
  {
   "cell_type": "code",
   "execution_count": 40,
   "metadata": {
    "collapsed": false
   },
   "outputs": [
    {
     "name": "stdout",
     "output_type": "stream",
     "text": [
      "[ 0.16666667] 0.5\n"
     ]
    }
   ],
   "source": [
    "A = [1,1,1,0,0]\n",
    "P = pd.DataFrame({'P' : [1,1,0,1,0]})\n",
    "\n",
    "lr = LinearRegression()\n",
    "lr.fit(P, A)\n",
    "print(lr.coef_, lr.intercept_)"
   ]
  },
  {
   "cell_type": "markdown",
   "metadata": {},
   "source": [
    "Let's have a play around with some different data."
   ]
  },
  {
   "cell_type": "code",
   "execution_count": null,
   "metadata": {
    "collapsed": true
   },
   "outputs": [],
   "source": []
  }
 ],
 "metadata": {
  "anaconda-cloud": {},
  "kernelspec": {
   "display_name": "Python [conda root]",
   "language": "python",
   "name": "conda-root-py"
  },
  "language_info": {
   "codemirror_mode": {
    "name": "ipython",
    "version": 3
   },
   "file_extension": ".py",
   "mimetype": "text/x-python",
   "name": "python",
   "nbconvert_exporter": "python",
   "pygments_lexer": "ipython3",
   "version": "3.5.2"
  }
 },
 "nbformat": 4,
 "nbformat_minor": 1
}
