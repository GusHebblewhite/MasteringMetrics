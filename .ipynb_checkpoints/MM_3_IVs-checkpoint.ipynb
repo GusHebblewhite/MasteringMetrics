{
 "cells": [
  {
   "cell_type": "markdown",
   "metadata": {},
   "source": [
    "# Instrumental Variables\n",
    "Basic exploration of IVs\n",
    "\n",
    "Say we have some underlying population trends which we cannot observe. These trends relate to how people after domestic diputes respond to being 'arrested' or being 'coddled'. The numbers in this table are the liklihood that a domestic violence abuser will abuse again (recidivism) given some tretment and given whether they are violent or not.\n",
    "\n",
    "Treatment | Normal Person | Violent Person\n",
    "-|-|-\n",
    "C | 0.1 | 0.15\n",
    "A | 0.02 | 0.05\n",
    "\n",
    "We have some data which we **do** know, but which is tainted by the fact that in every case a violent person in the 'coddled' group ('C') will assault the police officer and thus need to be arrested, and that this happens 10% of the time. However we still want to know the underlying treatment effect on the non-violent;\n",
    "\n",
    "Effect of treatment (C) on outcome (Y) = Effect of IV (Z) on outcome (Y) / Effect of treatment (C) on IV (Z)\n",
    "\n",
    "Now say we observe the experiment which the above (unknown) table implies, with 100 people in each group:"
   ]
  },
  {
   "cell_type": "code",
   "execution_count": 1,
   "metadata": {
    "collapsed": false
   },
   "outputs": [
    {
     "name": "stdout",
     "output_type": "stream",
     "text": [
      "C: 0.095 \n",
      "A: 0.023\n"
     ]
    }
   ],
   "source": [
    "rate_coddled_group = 0.1 * 0.9 + 0.1 * 0.05\n",
    "rate_arrested_group = 0.02 * 0.9 + 0.1 * 0.05\n",
    "print(\"C:\", round(rate_coddled_group, 4), \"\\nA:\" , round(rate_arrested_group, 4))"
   ]
  },
  {
   "cell_type": "markdown",
   "metadata": {},
   "source": [
    "This is the effect of our intrumental variable (i.e. the dummy for whether in the coddled (C) or arrested (A) group.\n",
    "\n",
    "'Effect of IV on outcome' is the difference between the outcome (recidivism rates) in the C and A groups.\n",
    "'Effect of treatment on IV' is the liklihood that a treated case (coddled) will actually be treated.  \n",
    "Using our IV formula:"
   ]
  },
  {
   "cell_type": "code",
   "execution_count": 2,
   "metadata": {
    "collapsed": false
   },
   "outputs": [
    {
     "name": "stdout",
     "output_type": "stream",
     "text": [
      "0.08\n"
     ]
    }
   ],
   "source": [
    "treatment_effect = (rate_coddled_group - rate_arrested_group) / (0.9)\n",
    "print(round(treatment_effect, 4))"
   ]
  },
  {
   "cell_type": "markdown",
   "metadata": {},
   "source": [
    "This should match the table at the top (i.e. [Normal Person : C] - [Normal Person : A])"
   ]
  },
  {
   "cell_type": "markdown",
   "metadata": {
    "collapsed": true
   },
   "source": [
    "# IV on actual data:\n",
    "\n",
    "### The equations for the 2SLS with controls:\n",
    "Reduced Form:\n",
    "$$Y_i = \\alpha_0 + \\rho Z_i + \\gamma_0 A_i + e_0i$$\n",
    "First Stage:\n",
    "$$D_i = \\alpha_1 + \\phi Z_i + \\gamma_1 A_i + e_1i$$\n",
    "\n",
    "2SLS:\n",
    "$$\\hat{D}_i = \\alpha_1 + \\phi Z_i + \\gamma_1 A_i$$\n",
    "Finally:\n",
    "$$Y_i = \\alpha_2 + \\lambda_{2SLS} \\hat{D}_i + \\gamma_2 A_i + e_2i$$\n",
    "\n",
    "This final regression gives us the treatment effect ($\\lambda_{2SLS}$)\n"
   ]
  },
  {
   "cell_type": "code",
   "execution_count": 3,
   "metadata": {
    "collapsed": false
   },
   "outputs": [
    {
     "data": {
      "text/html": [
       "<div>\n",
       "<table border=\"1\" class=\"dataframe\">\n",
       "  <thead>\n",
       "    <tr style=\"text-align: right;\">\n",
       "      <th></th>\n",
       "      <th>Unnamed: 0</th>\n",
       "      <th>sr</th>\n",
       "      <th>pop15</th>\n",
       "      <th>pop75</th>\n",
       "      <th>dpi</th>\n",
       "      <th>ddpi</th>\n",
       "    </tr>\n",
       "  </thead>\n",
       "  <tbody>\n",
       "    <tr>\n",
       "      <th>6</th>\n",
       "      <td>Chile</td>\n",
       "      <td>0.60</td>\n",
       "      <td>39.74</td>\n",
       "      <td>1.34</td>\n",
       "      <td>662.86</td>\n",
       "      <td>2.67</td>\n",
       "    </tr>\n",
       "    <tr>\n",
       "      <th>7</th>\n",
       "      <td>China</td>\n",
       "      <td>11.90</td>\n",
       "      <td>44.75</td>\n",
       "      <td>0.67</td>\n",
       "      <td>289.52</td>\n",
       "      <td>6.51</td>\n",
       "    </tr>\n",
       "    <tr>\n",
       "      <th>15</th>\n",
       "      <td>Greece</td>\n",
       "      <td>10.67</td>\n",
       "      <td>25.62</td>\n",
       "      <td>3.10</td>\n",
       "      <td>870.85</td>\n",
       "      <td>6.28</td>\n",
       "    </tr>\n",
       "    <tr>\n",
       "      <th>9</th>\n",
       "      <td>Costa Rica</td>\n",
       "      <td>10.78</td>\n",
       "      <td>47.64</td>\n",
       "      <td>1.14</td>\n",
       "      <td>471.24</td>\n",
       "      <td>2.80</td>\n",
       "    </tr>\n",
       "    <tr>\n",
       "      <th>12</th>\n",
       "      <td>Finland</td>\n",
       "      <td>11.24</td>\n",
       "      <td>27.84</td>\n",
       "      <td>2.37</td>\n",
       "      <td>1681.25</td>\n",
       "      <td>4.32</td>\n",
       "    </tr>\n",
       "  </tbody>\n",
       "</table>\n",
       "</div>"
      ],
      "text/plain": [
       "    Unnamed: 0     sr  pop15  pop75      dpi  ddpi\n",
       "6        Chile   0.60  39.74   1.34   662.86  2.67\n",
       "7        China  11.90  44.75   0.67   289.52  6.51\n",
       "15      Greece  10.67  25.62   3.10   870.85  6.28\n",
       "9   Costa Rica  10.78  47.64   1.14   471.24  2.80\n",
       "12     Finland  11.24  27.84   2.37  1681.25  4.32"
      ]
     },
     "execution_count": 3,
     "metadata": {},
     "output_type": "execute_result"
    }
   ],
   "source": [
    "import pandas as pd\n",
    "\n",
    "lss = pd.read_csv('LifeCycleSavings.csv')\n",
    "\n",
    "lss.sample(5)"
   ]
  },
  {
   "cell_type": "code",
   "execution_count": 4,
   "metadata": {
    "collapsed": false
   },
   "outputs": [
    {
     "data": {
      "text/html": [
       "<div>\n",
       "<table border=\"1\" class=\"dataframe\">\n",
       "  <thead>\n",
       "    <tr style=\"text-align: right;\">\n",
       "      <th></th>\n",
       "      <th>Unnamed: 0</th>\n",
       "      <th>sr</th>\n",
       "      <th>pop15</th>\n",
       "      <th>pop75</th>\n",
       "      <th>dpi</th>\n",
       "      <th>ddpi</th>\n",
       "      <th>dpi_100_plus</th>\n",
       "      <th>sr_8_plus</th>\n",
       "      <th>pop75_above_mean</th>\n",
       "      <th>pop15_above_mean</th>\n",
       "    </tr>\n",
       "  </thead>\n",
       "  <tbody>\n",
       "    <tr>\n",
       "      <th>48</th>\n",
       "      <td>Libya</td>\n",
       "      <td>8.89</td>\n",
       "      <td>43.69</td>\n",
       "      <td>2.07</td>\n",
       "      <td>123.58</td>\n",
       "      <td>16.71</td>\n",
       "      <td>False</td>\n",
       "      <td>True</td>\n",
       "      <td>False</td>\n",
       "      <td>True</td>\n",
       "    </tr>\n",
       "    <tr>\n",
       "      <th>38</th>\n",
       "      <td>Sweden</td>\n",
       "      <td>6.86</td>\n",
       "      <td>21.44</td>\n",
       "      <td>4.54</td>\n",
       "      <td>3299.49</td>\n",
       "      <td>3.01</td>\n",
       "      <td>True</td>\n",
       "      <td>False</td>\n",
       "      <td>True</td>\n",
       "      <td>False</td>\n",
       "    </tr>\n",
       "    <tr>\n",
       "      <th>36</th>\n",
       "      <td>South Rhodesia</td>\n",
       "      <td>13.30</td>\n",
       "      <td>31.92</td>\n",
       "      <td>1.52</td>\n",
       "      <td>250.96</td>\n",
       "      <td>2.00</td>\n",
       "      <td>False</td>\n",
       "      <td>True</td>\n",
       "      <td>False</td>\n",
       "      <td>False</td>\n",
       "    </tr>\n",
       "    <tr>\n",
       "      <th>34</th>\n",
       "      <td>Portugal</td>\n",
       "      <td>12.49</td>\n",
       "      <td>28.96</td>\n",
       "      <td>2.85</td>\n",
       "      <td>579.51</td>\n",
       "      <td>7.48</td>\n",
       "      <td>False</td>\n",
       "      <td>True</td>\n",
       "      <td>True</td>\n",
       "      <td>False</td>\n",
       "    </tr>\n",
       "    <tr>\n",
       "      <th>17</th>\n",
       "      <td>Honduras</td>\n",
       "      <td>7.70</td>\n",
       "      <td>47.32</td>\n",
       "      <td>0.58</td>\n",
       "      <td>232.44</td>\n",
       "      <td>3.19</td>\n",
       "      <td>False</td>\n",
       "      <td>False</td>\n",
       "      <td>False</td>\n",
       "      <td>True</td>\n",
       "    </tr>\n",
       "  </tbody>\n",
       "</table>\n",
       "</div>"
      ],
      "text/plain": [
       "        Unnamed: 0     sr  pop15  pop75      dpi   ddpi dpi_100_plus  \\\n",
       "48           Libya   8.89  43.69   2.07   123.58  16.71        False   \n",
       "38          Sweden   6.86  21.44   4.54  3299.49   3.01         True   \n",
       "36  South Rhodesia  13.30  31.92   1.52   250.96   2.00        False   \n",
       "34        Portugal  12.49  28.96   2.85   579.51   7.48        False   \n",
       "17        Honduras   7.70  47.32   0.58   232.44   3.19        False   \n",
       "\n",
       "   sr_8_plus pop75_above_mean pop15_above_mean  \n",
       "48      True            False             True  \n",
       "38     False             True            False  \n",
       "36      True            False            False  \n",
       "34      True             True            False  \n",
       "17     False            False             True  "
      ]
     },
     "execution_count": 4,
     "metadata": {},
     "output_type": "execute_result"
    }
   ],
   "source": [
    "#Add a > 100 dpi dummy\n",
    "lss['dpi_100_plus'] = lss['dpi'] > 1000\n",
    "\n",
    "#Add a > 8 sr dummy\n",
    "lss['sr_8_plus'] = lss['sr'] > 8\n",
    "\n",
    "#Add a pop75 > 4 dummy\n",
    "lss['pop75_above_mean'] = lss['pop75'] > lss['pop75'].mean()\n",
    "\n",
    "#Add a pop75 > 4 dummy\n",
    "lss['pop15_above_mean'] = lss['pop15'] > lss['pop15'].mean()\n",
    "\n",
    "lss.sample(5)"
   ]
  },
  {
   "cell_type": "code",
   "execution_count": 5,
   "metadata": {
    "collapsed": false,
    "scrolled": true
   },
   "outputs": [
    {
     "name": "stdout",
     "output_type": "stream",
     "text": [
      "beta: 2.96583333333 alpha: 8.48466666667\n"
     ]
    }
   ],
   "source": [
    "#Let's run a regression of sr on pop_75_plus\n",
    "\n",
    "from sklearn.linear_model import LinearRegression\n",
    "lr = LinearRegression()\n",
    "lr.fit(lss.ix[:, ['dpi_100_plus']], lss['sr'])\n",
    "print('beta:', lr.coef_[0], 'alpha:', lr.intercept_)"
   ]
  },
  {
   "cell_type": "code",
   "execution_count": 6,
   "metadata": {
    "collapsed": false,
    "scrolled": true
   },
   "outputs": [
    {
     "data": {
      "text/html": [
       "<div>\n",
       "<table border=\"1\" class=\"dataframe\">\n",
       "  <thead>\n",
       "    <tr style=\"text-align: right;\">\n",
       "      <th></th>\n",
       "      <th>sr</th>\n",
       "      <th>pop15</th>\n",
       "      <th>pop75</th>\n",
       "      <th>dpi</th>\n",
       "      <th>ddpi</th>\n",
       "      <th>dpi_100_plus</th>\n",
       "      <th>sr_8_plus</th>\n",
       "      <th>pop75_above_mean</th>\n",
       "      <th>pop15_above_mean</th>\n",
       "    </tr>\n",
       "  </thead>\n",
       "  <tbody>\n",
       "    <tr>\n",
       "      <th>sr</th>\n",
       "      <td>1.000000</td>\n",
       "      <td>-0.455538</td>\n",
       "      <td>0.316521</td>\n",
       "      <td>0.220359</td>\n",
       "      <td>0.304787</td>\n",
       "      <td>0.327583</td>\n",
       "      <td>0.815771</td>\n",
       "      <td>0.320013</td>\n",
       "      <td>-0.470311</td>\n",
       "    </tr>\n",
       "    <tr>\n",
       "      <th>pop15</th>\n",
       "      <td>-0.455538</td>\n",
       "      <td>1.000000</td>\n",
       "      <td>-0.908479</td>\n",
       "      <td>-0.756188</td>\n",
       "      <td>-0.047826</td>\n",
       "      <td>-0.780344</td>\n",
       "      <td>-0.433544</td>\n",
       "      <td>-0.872910</td>\n",
       "      <td>0.938793</td>\n",
       "    </tr>\n",
       "    <tr>\n",
       "      <th>pop75</th>\n",
       "      <td>0.316521</td>\n",
       "      <td>-0.908479</td>\n",
       "      <td>1.000000</td>\n",
       "      <td>0.787000</td>\n",
       "      <td>0.025321</td>\n",
       "      <td>0.820779</td>\n",
       "      <td>0.326212</td>\n",
       "      <td>0.896571</td>\n",
       "      <td>-0.862022</td>\n",
       "    </tr>\n",
       "    <tr>\n",
       "      <th>dpi</th>\n",
       "      <td>0.220359</td>\n",
       "      <td>-0.756188</td>\n",
       "      <td>0.787000</td>\n",
       "      <td>1.000000</td>\n",
       "      <td>-0.129486</td>\n",
       "      <td>0.873374</td>\n",
       "      <td>0.186164</td>\n",
       "      <td>0.770809</td>\n",
       "      <td>-0.725176</td>\n",
       "    </tr>\n",
       "    <tr>\n",
       "      <th>ddpi</th>\n",
       "      <td>0.304787</td>\n",
       "      <td>-0.047826</td>\n",
       "      <td>0.025321</td>\n",
       "      <td>-0.129486</td>\n",
       "      <td>1.000000</td>\n",
       "      <td>-0.074608</td>\n",
       "      <td>0.203665</td>\n",
       "      <td>-0.004543</td>\n",
       "      <td>-0.011368</td>\n",
       "    </tr>\n",
       "    <tr>\n",
       "      <th>dpi_100_plus</th>\n",
       "      <td>0.327583</td>\n",
       "      <td>-0.780344</td>\n",
       "      <td>0.820779</td>\n",
       "      <td>0.873374</td>\n",
       "      <td>-0.074608</td>\n",
       "      <td>1.000000</td>\n",
       "      <td>0.272166</td>\n",
       "      <td>0.768122</td>\n",
       "      <td>-0.753592</td>\n",
       "    </tr>\n",
       "    <tr>\n",
       "      <th>sr_8_plus</th>\n",
       "      <td>0.815771</td>\n",
       "      <td>-0.433544</td>\n",
       "      <td>0.326212</td>\n",
       "      <td>0.186164</td>\n",
       "      <td>0.203665</td>\n",
       "      <td>0.272166</td>\n",
       "      <td>1.000000</td>\n",
       "      <td>0.386976</td>\n",
       "      <td>-0.478199</td>\n",
       "    </tr>\n",
       "    <tr>\n",
       "      <th>pop75_above_mean</th>\n",
       "      <td>0.320013</td>\n",
       "      <td>-0.872910</td>\n",
       "      <td>0.896571</td>\n",
       "      <td>0.770809</td>\n",
       "      <td>-0.004543</td>\n",
       "      <td>0.768122</td>\n",
       "      <td>0.386976</td>\n",
       "      <td>1.000000</td>\n",
       "      <td>-0.886750</td>\n",
       "    </tr>\n",
       "    <tr>\n",
       "      <th>pop15_above_mean</th>\n",
       "      <td>-0.470311</td>\n",
       "      <td>0.938793</td>\n",
       "      <td>-0.862022</td>\n",
       "      <td>-0.725176</td>\n",
       "      <td>-0.011368</td>\n",
       "      <td>-0.753592</td>\n",
       "      <td>-0.478199</td>\n",
       "      <td>-0.886750</td>\n",
       "      <td>1.000000</td>\n",
       "    </tr>\n",
       "  </tbody>\n",
       "</table>\n",
       "</div>"
      ],
      "text/plain": [
       "                        sr     pop15     pop75       dpi      ddpi  \\\n",
       "sr                1.000000 -0.455538  0.316521  0.220359  0.304787   \n",
       "pop15            -0.455538  1.000000 -0.908479 -0.756188 -0.047826   \n",
       "pop75             0.316521 -0.908479  1.000000  0.787000  0.025321   \n",
       "dpi               0.220359 -0.756188  0.787000  1.000000 -0.129486   \n",
       "ddpi              0.304787 -0.047826  0.025321 -0.129486  1.000000   \n",
       "dpi_100_plus      0.327583 -0.780344  0.820779  0.873374 -0.074608   \n",
       "sr_8_plus         0.815771 -0.433544  0.326212  0.186164  0.203665   \n",
       "pop75_above_mean  0.320013 -0.872910  0.896571  0.770809 -0.004543   \n",
       "pop15_above_mean -0.470311  0.938793 -0.862022 -0.725176 -0.011368   \n",
       "\n",
       "                  dpi_100_plus  sr_8_plus  pop75_above_mean  pop15_above_mean  \n",
       "sr                    0.327583   0.815771          0.320013         -0.470311  \n",
       "pop15                -0.780344  -0.433544         -0.872910          0.938793  \n",
       "pop75                 0.820779   0.326212          0.896571         -0.862022  \n",
       "dpi                   0.873374   0.186164          0.770809         -0.725176  \n",
       "ddpi                 -0.074608   0.203665         -0.004543         -0.011368  \n",
       "dpi_100_plus          1.000000   0.272166          0.768122         -0.753592  \n",
       "sr_8_plus             0.272166   1.000000          0.386976         -0.478199  \n",
       "pop75_above_mean      0.768122   0.386976          1.000000         -0.886750  \n",
       "pop15_above_mean     -0.753592  -0.478199         -0.886750          1.000000  "
      ]
     },
     "execution_count": 6,
     "metadata": {},
     "output_type": "execute_result"
    }
   ],
   "source": [
    "#Not sure if this even makes sence but let's use two correlated columns as a treatment and IV respectively\n",
    "lss.corr()"
   ]
  },
  {
   "cell_type": "markdown",
   "metadata": {},
   "source": [
    "The pop_75 dummy and the dpi dummy are highly correlated. Let's use these:\n",
    "\n",
    "Step 1) Get the effect of the population > 75 on the outcome (sr):\n",
    "\n",
    "Step 2) Get the effect of the population > 75 on the disposable income dummy (dpi_100_plus)\n",
    "\n",
    "**NOTE**  \n",
    "Y = 'sr'  \n",
    "Z = 'pop_75_above_mean'  \n",
    "D = 'dpi_100_plus'  \n",
    "A = 'sr_8_plus'"
   ]
  },
  {
   "cell_type": "code",
   "execution_count": 7,
   "metadata": {
    "collapsed": false
   },
   "outputs": [
    {
     "name": "stdout",
     "output_type": "stream",
     "text": [
      "LATE: 3.77191489362\n",
      "2.84102564103 0.753205128205\n"
     ]
    }
   ],
   "source": [
    "#2SLS:\n",
    "lr_iv_y = LinearRegression()    \n",
    "lr_iv_d = LinearRegression()\n",
    "\n",
    "lr_iv_y.fit(lss.ix[:, ['pop75_above_mean']], lss['sr'])\n",
    "lr_iv_d.fit(lss.ix[:, ['pop75_above_mean']], lss['dpi_100_plus'])\n",
    "\n",
    "print('LATE:', lr_iv_y.coef_[0] / lr_iv_d.coef_[0])\n",
    "print(lr_iv_y.coef_[0], lr_iv_d.coef_[0])"
   ]
  },
  {
   "cell_type": "code",
   "execution_count": 8,
   "metadata": {
    "collapsed": false
   },
   "outputs": [
    {
     "name": "stdout",
     "output_type": "stream",
     "text": [
      "Lambda: 3.77191489362\n"
     ]
    }
   ],
   "source": [
    "#2SLS METHOD 2\n",
    "lr_iv_y = LinearRegression()    \n",
    "lr_iv_d = LinearRegression()\n",
    "\n",
    "#Run first regression\n",
    "lr_iv_d.fit(lss.ix[:, ['pop75_above_mean']], lss['dpi_100_plus'])\n",
    "\n",
    "#Save fitted values\n",
    "lss['D_fitted'] = lr_iv_d.predict(lss.ix[:, ['pop75_above_mean']])\n",
    "\n",
    "#run on fitted values\n",
    "lr_iv_y.fit(lss.ix[:, ['D_fitted']], lss['sr'])\n",
    "\n",
    "print('Lambda:', lr_iv_y.coef_[0])"
   ]
  },
  {
   "cell_type": "markdown",
   "metadata": {},
   "source": [
    "This lambda matches the LATE calculated earlier!!!\n",
    "\n",
    "Now let's add some controls:"
   ]
  },
  {
   "cell_type": "code",
   "execution_count": 14,
   "metadata": {
    "collapsed": false
   },
   "outputs": [
    {
     "name": "stdout",
     "output_type": "stream",
     "text": [
      "rho: 0.0451963350785 phi: 0.764397905759\n",
      "LATE: 0.0591267123288\n"
     ]
    }
   ],
   "source": [
    "#2SLS WITH CONTROLS STEP BY STEP REGRESSION\n",
    "\n",
    "lr_iv_b = LinearRegression()\n",
    "lr = LinearRegression()\n",
    "\n",
    "#Run first regression\n",
    "lr_iv_b.fit(X = lss.ix[:, ['sr_8_plus']], y = lss['pop75_above_mean'])\n",
    "\n",
    "predictions = lr_iv_b.predict(lss.ix[:, ['sr_8_plus']])\n",
    "lss['residuals_Z'] = lss['pop75_above_mean'] - predictions\n",
    "\n",
    "rho = lr.fit(lss.ix[:, ['residuals_Z']], lss['sr']).coef_[0]\n",
    "phi = lr.fit(lss.ix[:, ['residuals_Z']], lss['dpi_100_plus']).coef_[0]\n",
    "\n",
    "print(\"rho:\", rho, \"phi:\", phi)\n",
    "print(\"LATE:\", rho / phi)"
   ]
  },
  {
   "cell_type": "code",
   "execution_count": 15,
   "metadata": {
    "collapsed": false
   },
   "outputs": [
    {
     "name": "stdout",
     "output_type": "stream",
     "text": [
      "numerator: 0.00978741496599 denominator: 0.165532879819\n",
      "LATE: 0.0591267123288\n"
     ]
    }
   ],
   "source": [
    "#2SLS WITH CONTROLS STEP BY COVARIANCE ONLY\n",
    "\n",
    "import numpy as np\n",
    "\n",
    "num = np.cov(lss['sr'], lss['residuals_Z'])[0][1]\n",
    "denom = np.cov(lss['dpi_100_plus'], lss['residuals_Z'])[0][1]\n",
    "\n",
    "print(\"numerator:\", num, \"denominator:\", denom)\n",
    "print(\"LATE:\", num / denom)"
   ]
  },
  {
   "cell_type": "code",
   "execution_count": null,
   "metadata": {
    "collapsed": false
   },
   "outputs": [],
   "source": [
    "#2SLS WITH CONTROLS ALL REGRESSION\n",
    "\n",
    "lr_iv_y = LinearRegression()    \n",
    "lr_iv_d = LinearRegression()\n",
    "\n",
    "#Run first regression\n",
    "lr_iv_d.fit(lss.ix[:, ['pop75_above_mean', 'sr_8_plus']], lss['dpi_100_plus'])\n",
    "\n",
    "#Save fitted values\n",
    "lss['D_fitted'] = lr_iv_d.predict(lss.ix[:, ['pop75_above_mean', 'sr_8_plus']])\n",
    "\n",
    "#run on fitted values\n",
    "lr_iv_y.fit(lss.ix[:, ['D_fitted', 'sr_8_plus']], lss['sr'])\n",
    "\n",
    "print('lambda_2SLS:', lr_iv_y.coef_[0])"
   ]
  },
  {
   "cell_type": "markdown",
   "metadata": {
    "collapsed": false
   },
   "source": [
    "These three methods are identical too :)"
   ]
  },
  {
   "cell_type": "markdown",
   "metadata": {
    "collapsed": true
   },
   "source": [
    "## IV standard Errors\n",
    "\n",
    "### Restating the equations for the 2SLS with controls:\n",
    "Reduced Form:\n",
    "$$Y_i = \\alpha_0 + \\rho Z_i + \\gamma_0 A_i + e_0i$$\n",
    "First Stage:\n",
    "$$D_i = \\alpha_1 + \\phi Z_i + \\gamma_1 A_i + e_1i$$\n",
    "\n",
    "2SLS:\n",
    "$$\\hat{D}_i = \\alpha_1 + \\phi Z_i + \\gamma_1 A_i$$\n",
    "Finally:\n",
    "$$Y_i = \\alpha_2 + \\lambda_{2SLS} \\hat{D}_i + \\gamma_2 A_i + e_2i$$\n",
    "\n",
    "This final regression gives us the treatment effect ($\\lambda_{2SLS}$)\n",
    "\n",
    "### Standard Errors\n",
    "First, we need to find the residuals:\n",
    "$$\\eta_i = Y_i - \\alpha_2 - \\lambda_{2SLS} D_i - \\gamma_2 A_i$$\n",
    "Note that we use $D_i$ and not $\\hat{D}_i$. \n",
    "\n",
    "Then, the standard errors are:\n",
    "$$SE(\\hat{\\lambda}_{2SLS}) = \\frac{\\sigma_{\\eta}}{\\sqrt{n}} * \\frac{1}{\\sigma_\\hat{D}}$$\n",
    "\n",
    "Note here that $\\sigma_{\\hat(D)_i}$ is the Standard Deviation of the $\\hat{D}_i$ regression above and not the Standard Deviation of the first stage. This is part of why it's usually best to calculate these kinds of Standard Errors with (in Joshua Angrist's words) *\"professional software\"*.\n",
    "\n",
    "**NOTE**  \n",
    "Y = 'sr'  \n",
    "Z = 'pop_75_above_mean'  \n",
    "D = 'dpi_100_plus'  \n",
    "A = 'sr_8_plus'"
   ]
  },
  {
   "cell_type": "code",
   "execution_count": null,
   "metadata": {
    "collapsed": true
   },
   "outputs": [],
   "source": [
    "#Code to calculate Standard Error of residuals:\n",
    "eta_i = lss['sr'] - lr_iv_y.intercept_ - lr_iv_y.coef_[0] * lss['dpi_100_plus'] - lr_iv_y.coef_[1] * lss['sr_8_plus']"
   ]
  },
  {
   "cell_type": "code",
   "execution_count": null,
   "metadata": {
    "collapsed": true
   },
   "outputs": [],
   "source": [
    "eta_i"
   ]
  },
  {
   "cell_type": "code",
   "execution_count": null,
   "metadata": {
    "collapsed": true
   },
   "outputs": [],
   "source": []
  }
 ],
 "metadata": {
  "anaconda-cloud": {},
  "kernelspec": {
   "display_name": "Python [conda root]",
   "language": "python",
   "name": "conda-root-py"
  },
  "language_info": {
   "codemirror_mode": {
    "name": "ipython",
    "version": 3
   },
   "file_extension": ".py",
   "mimetype": "text/x-python",
   "name": "python",
   "nbconvert_exporter": "python",
   "pygments_lexer": "ipython3",
   "version": "3.5.2"
  }
 },
 "nbformat": 4,
 "nbformat_minor": 1
}
