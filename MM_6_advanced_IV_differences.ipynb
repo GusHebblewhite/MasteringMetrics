{
 "cells": [
  {
   "cell_type": "markdown",
   "metadata": {},
   "source": [
    "# Advanced IV\n",
    "IV is pretty handy for linking variables. It can also be used for controlling for attenuation bias.\n",
    "\n",
    "**Attenu-what?**  \n",
    "Attenuation Bias is an underestimated of a treatment effect due to incorrect data. An example is that if we have some group of twins and we are trying to use them (since they are a natural experiment controlling for heaps of stuff; parents, even genes, etc) to work out the value of education. \n",
    "\n"
   ]
  },
  {
   "cell_type": "code",
   "execution_count": 2,
   "metadata": {
    "collapsed": false
   },
   "outputs": [],
   "source": [
    "#meta-params:\n",
    "num_twins = 100\n",
    "\n",
    "import pandas as pd\n",
    "import numpy as np\n",
    "\n",
    "twins_db = pd.DataFrame()\n",
    "\n",
    "#Generate data for number of years educating\n",
    "twins_db['Education_1'] = [round(np.random.normal(loc= 14, scale=2)) for x in range(num_twins)]\n",
    "twins_db['Education_2'] = [round(np.random.normal(loc= 14, scale=2)) for x in range(num_twins)]\n",
    "\n",
    "#Function for generating salary from education\n",
    "def sal_f_edu(edu):\n",
    "    import numpy as np\n",
    "    slope = 3\n",
    "    rand = np.random.normal(0, 15)\n",
    "    return round(slope * edu + rand)\n",
    "\n",
    "#Generate data for salary\n",
    "twins_db['Salary_1'] = twins_db['Education_1'].apply(sal_f_edu)\n",
    "twins_db['Salary_2'] = twins_db['Education_2'].apply(sal_f_edu)\n",
    "\n",
    "#Store the diferences in the schooling and salary:\n",
    "twins_db['diff_ed']   = twins_db['Education_1'] - twins_db['Education_2']\n",
    "twins_db['diff_sal']  = twins_db['Salary_1'] - twins_db['Salary_2']\n",
    "\n",
    "#Add an constant and convert whole df to float:\n",
    "twins_db['const'] = 1\n",
    "twins_db = twins_db.astype(float)"
   ]
  },
  {
   "cell_type": "code",
   "execution_count": 3,
   "metadata": {
    "collapsed": false
   },
   "outputs": [
    {
     "data": {
      "text/html": [
       "<div>\n",
       "<table border=\"1\" class=\"dataframe\">\n",
       "  <thead>\n",
       "    <tr style=\"text-align: right;\">\n",
       "      <th></th>\n",
       "      <th>Education_1</th>\n",
       "      <th>Education_2</th>\n",
       "      <th>Salary_1</th>\n",
       "      <th>Salary_2</th>\n",
       "      <th>diff_ed</th>\n",
       "      <th>diff_sal</th>\n",
       "      <th>const</th>\n",
       "    </tr>\n",
       "  </thead>\n",
       "  <tbody>\n",
       "    <tr>\n",
       "      <th>6</th>\n",
       "      <td>10.0</td>\n",
       "      <td>13.0</td>\n",
       "      <td>37.0</td>\n",
       "      <td>67.0</td>\n",
       "      <td>-3.0</td>\n",
       "      <td>-30.0</td>\n",
       "      <td>1.0</td>\n",
       "    </tr>\n",
       "    <tr>\n",
       "      <th>24</th>\n",
       "      <td>13.0</td>\n",
       "      <td>18.0</td>\n",
       "      <td>70.0</td>\n",
       "      <td>55.0</td>\n",
       "      <td>-5.0</td>\n",
       "      <td>15.0</td>\n",
       "      <td>1.0</td>\n",
       "    </tr>\n",
       "    <tr>\n",
       "      <th>35</th>\n",
       "      <td>13.0</td>\n",
       "      <td>12.0</td>\n",
       "      <td>34.0</td>\n",
       "      <td>8.0</td>\n",
       "      <td>1.0</td>\n",
       "      <td>26.0</td>\n",
       "      <td>1.0</td>\n",
       "    </tr>\n",
       "    <tr>\n",
       "      <th>82</th>\n",
       "      <td>15.0</td>\n",
       "      <td>13.0</td>\n",
       "      <td>15.0</td>\n",
       "      <td>42.0</td>\n",
       "      <td>2.0</td>\n",
       "      <td>-27.0</td>\n",
       "      <td>1.0</td>\n",
       "    </tr>\n",
       "    <tr>\n",
       "      <th>1</th>\n",
       "      <td>17.0</td>\n",
       "      <td>13.0</td>\n",
       "      <td>73.0</td>\n",
       "      <td>44.0</td>\n",
       "      <td>4.0</td>\n",
       "      <td>29.0</td>\n",
       "      <td>1.0</td>\n",
       "    </tr>\n",
       "  </tbody>\n",
       "</table>\n",
       "</div>"
      ],
      "text/plain": [
       "    Education_1  Education_2  Salary_1  Salary_2  diff_ed  diff_sal  const\n",
       "6          10.0         13.0      37.0      67.0     -3.0     -30.0    1.0\n",
       "24         13.0         18.0      70.0      55.0     -5.0      15.0    1.0\n",
       "35         13.0         12.0      34.0       8.0      1.0      26.0    1.0\n",
       "82         15.0         13.0      15.0      42.0      2.0     -27.0    1.0\n",
       "1          17.0         13.0      73.0      44.0      4.0      29.0    1.0"
      ]
     },
     "execution_count": 3,
     "metadata": {},
     "output_type": "execute_result"
    }
   ],
   "source": [
    "twins_db.sample(5)"
   ]
  },
  {
   "cell_type": "code",
   "execution_count": 4,
   "metadata": {
    "collapsed": false
   },
   "outputs": [],
   "source": [
    "X = 'diff_ed'\n",
    "y = 'diff_sal'\n",
    "\n",
    "#Get the unattenuated result:\n",
    "import statsmodels.api as sm\n",
    "lr = sm.OLS(twins_db[y],\n",
    "            twins_db[[X, 'const']])\n",
    "result = lr.fit()\n",
    "normal_coef = result.params[0]\n",
    "\n",
    "#Get the attenuated results:\n",
    "coef = []\n",
    "for _ in range(100):\n",
    "    \n",
    "    #Add some Attenuation Bias:\n",
    "    twins_db['Ed_1_errors'] = twins_db['Education_1'].apply(lambda x : \n",
    "                                                            x + round(np.random.normal(0, 0.5))\n",
    "                                                           )\n",
    "    twins_db['Ed_2_errors'] = twins_db['Education_2'].apply(lambda x : \n",
    "                                                            x + round(np.random.normal(0, 0.5))\n",
    "                                                           )\n",
    "    twins_db['diff_ed']   = twins_db['Ed_1_errors'] - twins_db['Ed_2_errors']\n",
    "    \n",
    "    #Run a linear regression\n",
    "    import statsmodels.api as sm\n",
    "    lr = sm.OLS(twins_db[y],\n",
    "                twins_db[[X, 'const']])\n",
    "    result = lr.fit()\n",
    "    \n",
    "    coef.append(result.params[0])"
   ]
  },
  {
   "cell_type": "code",
   "execution_count": 5,
   "metadata": {
    "collapsed": false
   },
   "outputs": [
    {
     "name": "stdout",
     "output_type": "stream",
     "text": [
      "2.70322178398 2.47020682854\n"
     ]
    }
   ],
   "source": [
    "print(normal_coef, np.average(coef))"
   ]
  },
  {
   "cell_type": "markdown",
   "metadata": {},
   "source": [
    "The difference between these numbers is \"Attenuation Bias\".\n",
    "\n",
    "**How do we solve Attenation Bias?**  \n",
    "We can use \"twin one's report of twin 2's schooling\" as an instrument for \"twin 2's schooling\" (assuming we have/can collect(ed) this information). Assuming that any mistakes made in reporting are just random mistakes, they should mostly cancel out.\n",
    "\n",
    "### Remember IVs?\n",
    "Reduced Form (effect of the instrument on the outcome):\n",
    "$$Y_i = \\alpha_0 + \\rho Z_i + e_0i$$\n",
    "First Stage (effect of the instrument on the treatment):\n",
    "$$D_i = \\alpha_1 + \\phi Z_i + e_1i$$\n",
    "\n",
    "2SLS:\n",
    "$$\\hat{D}_i = \\alpha_1 + \\phi Z_i$$\n",
    "Finally (effect of treatment on the outcome):\n",
    "$$Y_i = \\alpha_2 + \\lambda_{2SLS} \\hat{D}_i + \\gamma_2 A_i + e_2i$$\n",
    "\n",
    "**IVs in our example:**  \n",
    "$Y_i$ = Difference in Salary  \n",
    "$D_i$ = Difference in education (self reported)  \n",
    "$Z_i$ = Difference in education (twin reported)"
   ]
  },
  {
   "cell_type": "code",
   "execution_count": 6,
   "metadata": {
    "collapsed": false
   },
   "outputs": [],
   "source": [
    "#Get the attenuated results:\n",
    "\n",
    "import statsmodels.api as sm\n",
    "\n",
    "lambda_late = []\n",
    "lambda_2sls = []\n",
    "for _ in range(300):\n",
    "    \n",
    "    #Add some mistakes (self reporting):\n",
    "    twins_db['Education_1_self'] = twins_db['Education_1'].apply(lambda x : \n",
    "                                                            x + round(np.random.normal(0, 0.5))\n",
    "                                                           )\n",
    "    twins_db['Education_2_self'] = twins_db['Education_2'].apply(lambda x : \n",
    "                                                            x + round(np.random.normal(0, 0.5))\n",
    "                                                           )\n",
    "    \n",
    "    #Add some mistakes (twin reporting):\n",
    "    twins_db['Education_1_twin'] = twins_db['Education_1'].apply(lambda x : \n",
    "                                                            x + round(np.random.normal(0, 0.5))\n",
    "                                                           )\n",
    "    twins_db['Education_2_twin'] = twins_db['Education_2'].apply(lambda x : \n",
    "                                                            x + round(np.random.normal(0, 0.5))\n",
    "                                                           )\n",
    "    #Save this into the dataframe\n",
    "    twins_db['diff_ed_self']   = twins_db['Education_1_self'] - twins_db['Education_2_self']\n",
    "    twins_db['diff_ed_twin']   = twins_db['Education_1_twin'] - twins_db['Education_2_twin']\n",
    "                                               \n",
    "    \n",
    "    #Specify the columns of interest:\n",
    "    X = 'diff_ed_self'\n",
    "    Z = 'diff_ed_twin'\n",
    "    y = 'diff_sal'\n",
    "    \n",
    "    #Run a linear regression (first stage)\n",
    "    lr_fs = sm.OLS(twins_db[X],\n",
    "                twins_db[[Z, 'const']])\n",
    "    result_fs = lr_fs.fit()\n",
    "    \n",
    "    #And another (reduced form)\n",
    "    lr_rf = sm.OLS(twins_db[y],\n",
    "                twins_db[[Z, 'const']])\n",
    "    result_rf = lr_rf.fit()\n",
    "    \n",
    "    #save result;\n",
    "    twins_db['fs_predict'] = result_fs.predict(twins_db[[Z, 'const']])\n",
    "    \n",
    "    #And another (2sls)\n",
    "    lr_2sls = sm.OLS(twins_db[y],\n",
    "                twins_db[['fs_predict', 'const']])\n",
    "    result_2sls = lr_2sls.fit()\n",
    "    \n",
    "    lambda_late.append(result_rf.params[0] / result_fs.params[0])\n",
    "    lambda_2sls.append(result_2sls.params[0])"
   ]
  },
  {
   "cell_type": "code",
   "execution_count": 7,
   "metadata": {
    "collapsed": false
   },
   "outputs": [
    {
     "name": "stdout",
     "output_type": "stream",
     "text": [
      "Target: 2.70322178398 \n",
      "Attenuated: 2.47020682854\n",
      "LATE: 2.6694713072\n",
      "2SLS: 2.6694713072\n"
     ]
    }
   ],
   "source": [
    "print(\"Target:\", normal_coef, \"\\nAttenuated:\", np.average(coef))\n",
    "print(\"LATE:\", np.mean(lambda_late))\n",
    "print(\"2SLS:\", np.mean(lambda_2sls))"
   ]
  },
  {
   "cell_type": "markdown",
   "metadata": {
    "collapsed": true
   },
   "source": [
    "That seems to work :)"
   ]
  },
  {
   "cell_type": "code",
   "execution_count": null,
   "metadata": {
    "collapsed": true
   },
   "outputs": [],
   "source": []
  }
 ],
 "metadata": {
  "anaconda-cloud": {},
  "kernelspec": {
   "display_name": "Python [conda root]",
   "language": "python",
   "name": "conda-root-py"
  },
  "language_info": {
   "codemirror_mode": {
    "name": "ipython",
    "version": 3
   },
   "file_extension": ".py",
   "mimetype": "text/x-python",
   "name": "python",
   "nbconvert_exporter": "python",
   "pygments_lexer": "ipython3",
   "version": "3.5.2"
  }
 },
 "nbformat": 4,
 "nbformat_minor": 1
}
